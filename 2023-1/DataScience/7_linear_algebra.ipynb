{
  "nbformat": 4,
  "nbformat_minor": 0,
  "metadata": {
    "colab": {
      "provenance": []
    },
    "kernelspec": {
      "name": "python3",
      "display_name": "Python 3"
    },
    "language_info": {
      "name": "python"
    }
  },
  "cells": [
    {
      "cell_type": "markdown",
      "source": [
        "# 데이터사이언스 (0010085001)\n",
        "\n",
        "## Exercise 7: Linear Algebra\n",
        "\n",
        "In this excercise, we plan to perform from the basic usage of linear algebra functions to the application of SVD."
      ],
      "metadata": {
        "id": "Ad3KH2GnL1UA"
      }
    },
    {
      "cell_type": "markdown",
      "source": [
        "### 1. Basic Linear Algebra\n",
        "\n",
        "#### option 1) numpy.linalg"
      ],
      "metadata": {
        "id": "X8b7x6dh69wo"
      }
    },
    {
      "cell_type": "markdown",
      "source": [
        "##### np.dot / mp.matmul\n",
        "\n",
        "Dot product of two arrays.\n",
        "- https://numpy.org/doc/stable/reference/generated/numpy.dot.html\n",
        "\n",
        "Matrix product of two arrays\n",
        "- https://numpy.org/doc/stable/reference/generated/numpy.matmul.html"
      ],
      "metadata": {
        "id": "dC7yKYM4EFzk"
      }
    },
    {
      "cell_type": "code",
      "source": [
        "import numpy as np"
      ],
      "metadata": {
        "id": "7w_8udatETS6"
      },
      "execution_count": null,
      "outputs": []
    },
    {
      "cell_type": "code",
      "source": [
        "# Scalar product of 3 and 4\n",
        "results = np.dot(3, 4)\n",
        "print(results)"
      ],
      "metadata": {
        "id": "pWoTGkuK6-El"
      },
      "execution_count": null,
      "outputs": []
    },
    {
      "cell_type": "code",
      "source": [
        "# Dot product of [[1, 0], [0, 1]] and [[4, 1], [2, 2]]\n",
        "a = [[1, 0], \n",
        "     [0, 1]]\n",
        "b = [[4, 1], \n",
        "     [2, 2]]\n",
        "results = np.dot(a, b)\n",
        "print(results)"
      ],
      "metadata": {
        "id": "sPgBOOWi6-CZ"
      },
      "execution_count": null,
      "outputs": []
    },
    {
      "cell_type": "code",
      "source": [
        "# 2D array matrix product of [[1, 0], [0, 1]] and [[4, 1], [0, 1]]\n",
        "a = np.array([[1, 0], \n",
        "              [0, 1]])\n",
        "b = np.array([[4, 1], \n",
        "              [0, 1]])\n",
        "results = np.matmul(a, b)\n",
        "print(results)"
      ],
      "metadata": {
        "id": "VamKz4WJZ-Sy"
      },
      "execution_count": null,
      "outputs": []
    },
    {
      "cell_type": "code",
      "source": [
        "# 2D array and 1D array matrix product of [[1, 0], [0, 1]] and [1, 2]\n",
        "a = np.array([[1, 0], \n",
        "              [0, 1]])\n",
        "b = np.array([1, 2])\n",
        "results = np.matmul(a, b)\n",
        "print(results)\n",
        "\n",
        "# @ operator can be used as a shorthand for np.matmul on ndarrays\n",
        "results = a @ b\n",
        "print(results)"
      ],
      "metadata": {
        "id": "O4FIu1fZaAAu"
      },
      "execution_count": null,
      "outputs": []
    },
    {
      "cell_type": "markdown",
      "source": [
        "##### np.multiply\n",
        "\n",
        "Multiply arguments element-wise\n",
        "\n",
        "- https://numpy.org/doc/stable/reference/generated/numpy.multiply.html#numpy-multiply"
      ],
      "metadata": {
        "id": "P9rh5dy9ZvQc"
      }
    },
    {
      "cell_type": "code",
      "source": [
        "# Multiply 2.0 and 4.0\n",
        "results = np.multiply(2.0, 4.0)\n",
        "print(results)"
      ],
      "metadata": {
        "id": "VoWzkSzRadZs"
      },
      "execution_count": null,
      "outputs": []
    },
    {
      "cell_type": "code",
      "source": [
        "# Element-wise multiplication of [[1, 0], [0, 1]] and [[4, 1], [2, 2]]\n",
        "a = [[1, 0], \n",
        "     [0, 1]]\n",
        "b = [[4, 1], \n",
        "     [2, 2]]\n",
        "results = np.multiply(a, b)\n",
        "print(results)"
      ],
      "metadata": {
        "id": "dX3DR0PYZzmg"
      },
      "execution_count": null,
      "outputs": []
    },
    {
      "cell_type": "code",
      "source": [
        "# Element-wise multiplication of [[0., 1., 2.], [3., 4., 5.,], [6., 7., 8.,]] and [0., 1., 2]\n",
        "x1 = np.arange(9.0).reshape((3, 3))\n",
        "x2 = np.arange(3.0)\n",
        "results = np.multiply(x1, x2)\n",
        "print(results)"
      ],
      "metadata": {
        "id": "MkSgS_2aamVG"
      },
      "execution_count": null,
      "outputs": []
    },
    {
      "cell_type": "markdown",
      "source": [
        "##### np.inner\n",
        "\n",
        "Inner product of two arrays\n",
        "- https://numpy.org/doc/stable/reference/generated/numpy.inner.html"
      ],
      "metadata": {
        "id": "baj37B_uFK0u"
      }
    },
    {
      "cell_type": "code",
      "source": [
        "# Inner product of two vectors [1, 2, 3] and [0, 1, 0]\n",
        "a = np.array([1, 2, 3])\n",
        "b = np.array([0, 1, 0])\n",
        "results = np.inner(a, b)\n",
        "print(results)"
      ],
      "metadata": {
        "id": "tQt_X6QW6-AG"
      },
      "execution_count": null,
      "outputs": []
    },
    {
      "cell_type": "code",
      "source": [
        "# Inner product of multidimensional vectors \n",
        "a = np.arange(24).reshape((2, 3, 4))\n",
        "b = np.arange(4)\n",
        "print(a.shape, b.shape)\n",
        "\n",
        "results = np.inner(a, b)\n",
        "print(results)\n",
        "print(results.shape)"
      ],
      "metadata": {
        "id": "4fHqN-i4699_"
      },
      "execution_count": null,
      "outputs": []
    },
    {
      "cell_type": "code",
      "source": [
        "# Inner product of multidimensional vectors\n",
        "a = np.arange(2).reshape((1, 1, 2))\n",
        "b = np.arange(6).reshape((3, 2))\n",
        "print(a.shape, b.shape)\n",
        "results = np.inner(a, b)\n",
        "print(results)\n",
        "print(results.shape)"
      ],
      "metadata": {
        "id": "2LtbkFPS6978"
      },
      "execution_count": null,
      "outputs": []
    },
    {
      "cell_type": "markdown",
      "source": [
        "##### np.linalg.norm\n",
        "\n",
        "Matrix or vector norm\n",
        "- https://numpy.org/doc/stable/reference/generated/numpy.linalg.norm.html#numpy-linalg-norm"
      ],
      "metadata": {
        "id": "NPDLg98eYhoU"
      }
    },
    {
      "cell_type": "code",
      "source": [
        "from numpy import linalg as LA"
      ],
      "metadata": {
        "id": "AKtYEshmYhGD"
      },
      "execution_count": null,
      "outputs": []
    },
    {
      "cell_type": "code",
      "source": [
        "# Set a and b as follows:\n",
        "a = np.arange(9) - 4\n",
        "print(a)\n",
        "\n",
        "b = a.reshape((3, 3))\n",
        "print(b)"
      ],
      "metadata": {
        "id": "Decg4zdtQFnA"
      },
      "execution_count": null,
      "outputs": []
    },
    {
      "cell_type": "code",
      "source": [
        "# Calculate norm of a and b\n",
        "norm_a = LA.norm(a)\n",
        "norm_b = LA.norm(b)\n",
        "print(norm_a)\n",
        "print(norm_b)"
      ],
      "metadata": {
        "id": "5ztGZOK7Y5rz"
      },
      "execution_count": null,
      "outputs": []
    },
    {
      "cell_type": "code",
      "source": [
        "# Calculate Frobenius norm of b\n",
        "fro_norm_b = LA.norm(b, ord='fro')\n",
        "print(fro_norm_b)"
      ],
      "metadata": {
        "id": "juXJA1fRY5pq"
      },
      "execution_count": null,
      "outputs": []
    },
    {
      "cell_type": "code",
      "source": [
        "# Calculate infinity norm of a and b\n",
        "inf_norm_a = LA.norm(a, ord=np.inf)\n",
        "inf_norm_b = LA.norm(b, ord=np.inf)\n",
        "print(inf_norm_a)\n",
        "print(inf_norm_b)"
      ],
      "metadata": {
        "id": "G0O_MzoCY5np"
      },
      "execution_count": null,
      "outputs": []
    },
    {
      "cell_type": "code",
      "source": [
        "# Calculate L1 norm of a and b\n",
        "norm1_a = LA.norm(a, 1)\n",
        "norm1_b = LA.norm(b, 1)\n",
        "print(norm1_a)\n",
        "print(norm1_b)"
      ],
      "metadata": {
        "id": "H7d505R8Y5ls"
      },
      "execution_count": null,
      "outputs": []
    },
    {
      "cell_type": "code",
      "source": [
        "# Calculate L2 norm of a and b\n",
        "norm2_a = LA.norm(a, ord=2)\n",
        "norm2_b = LA.norm(b, 2)\n",
        "print(norm2_a)\n",
        "print(norm2_b)"
      ],
      "metadata": {
        "id": "fYuF6LY4bDQi"
      },
      "execution_count": null,
      "outputs": []
    },
    {
      "cell_type": "markdown",
      "source": [
        "#### option 2) scipy.linalg\n",
        "- https://docs.scipy.org/doc/scipy/reference/linalg.html#module-scipy.linalg"
      ],
      "metadata": {
        "id": "QWNRSTtkDs6n"
      }
    },
    {
      "cell_type": "code",
      "source": [
        "import numpy as np\n",
        "from scipy import linalg"
      ],
      "metadata": {
        "id": "tIOvJbyjb7CG"
      },
      "execution_count": null,
      "outputs": []
    },
    {
      "cell_type": "markdown",
      "source": [
        "##### scipy.linalg.inv\n",
        "\n",
        "Compute the inverse of matrix\n",
        "- https://docs.scipy.org/doc/scipy/reference/generated/scipy.linalg.inv.html"
      ],
      "metadata": {
        "id": "AyDw7nDscAPO"
      }
    },
    {
      "cell_type": "code",
      "source": [
        "# Compute the invers of [[1., 2.], [3., 4.]]\n",
        "a = np.array([[1., 2.], [3., 4.]])\n",
        "inv_a = linalg.inv(a)\n",
        "print(inv_a)\n",
        "\n",
        "# Compute the multiplication between original and inverse matrices\n",
        "product = np.matmul(a, inv_a)\n",
        "print(product)"
      ],
      "metadata": {
        "id": "nwHhnnoOb-3S"
      },
      "execution_count": null,
      "outputs": []
    },
    {
      "cell_type": "markdown",
      "source": [
        "##### scipy.linalg.det\n",
        "\n",
        "Compute the determinant of a matrix\n",
        "- https://docs.scipy.org/doc/scipy/reference/generated/scipy.linalg.det.html#scipy.linalg.det"
      ],
      "metadata": {
        "id": "oonKkv7-dD2g"
      }
    },
    {
      "cell_type": "code",
      "source": [
        "# Compute the determinant of [[1,2,3], [4,5,6], [7,8,9]])\n",
        "a = np.array([[1,2,3], [4,5,6], [7,8,9]])\n",
        "det_a = linalg.det(a)\n",
        "print(det_a)\n",
        "\n",
        "# Compute the determinant of [[0,2,3], [4,5,6], [7,8,9]]\n",
        "b = np.array([[0,2,3], [4,5,6], [7,8,9]])\n",
        "det_b = linalg.det(b)\n",
        "print(det_b)"
      ],
      "metadata": {
        "id": "Rff36dOmb-1S"
      },
      "execution_count": null,
      "outputs": []
    },
    {
      "cell_type": "markdown",
      "source": [
        "##### scipy.linalg.norm\n",
        "\n",
        "Matrix or vector norm\n",
        "- https://docs.scipy.org/doc/scipy/reference/generated/scipy.linalg.norm.html"
      ],
      "metadata": {
        "id": "f2YzmAPkdVQm"
      }
    },
    {
      "cell_type": "code",
      "source": [
        "# Set a and b as follows:\n",
        "a = np.arange(9) - 4\n",
        "print(a)\n",
        "\n",
        "b = a.reshape((3, 3))\n",
        "print(b)"
      ],
      "metadata": {
        "id": "d2KbVuOLb-zM"
      },
      "execution_count": null,
      "outputs": []
    },
    {
      "cell_type": "code",
      "source": [
        "# Compute norm of a\n",
        "norm_a = linalg.norm(a)\n",
        "print(norm_a)\n",
        "\n",
        "norm_b = linalg.norm(b)\n",
        "print(norm_b)"
      ],
      "metadata": {
        "id": "tHMrFORVb-xK"
      },
      "execution_count": null,
      "outputs": []
    },
    {
      "cell_type": "code",
      "source": [
        "# Compute frobenius norm of b\n",
        "norm_b_fro = linalg.norm(b, 'fro')\n",
        "print(norm_b_fro)"
      ],
      "metadata": {
        "id": "IaSuTuDqkSD6"
      },
      "execution_count": null,
      "outputs": []
    },
    {
      "cell_type": "code",
      "source": [
        "# Compute infinity norm of a and b\n",
        "norm_inf_a = linalg.norm(a, np.inf)\n",
        "norm_inf_b = linalg.norm(b, np.inf)\n",
        "print(norm_inf_a)\n",
        "print(norm_inf_b)"
      ],
      "metadata": {
        "id": "T60km3f4kR78"
      },
      "execution_count": null,
      "outputs": []
    },
    {
      "cell_type": "code",
      "source": [
        "# Compute L1 norm of a\n",
        "norm_l1_a = linalg.norm(a, 1)\n",
        "print(norm_l1_a)\n",
        "\n",
        "# Compute L2 norm of b\n",
        "norm_l2_b = linalg.norm(b, 2)\n",
        "print(norm_l2_b)"
      ],
      "metadata": {
        "id": "ExKps74Pb-u-"
      },
      "execution_count": null,
      "outputs": []
    },
    {
      "cell_type": "markdown",
      "source": [
        "### 2. Eigenvalue"
      ],
      "metadata": {
        "id": "6RwqgjuWX2O4"
      }
    },
    {
      "cell_type": "markdown",
      "source": [
        "##### np.linalg.eig\n",
        "\n",
        "Compute the eigenvalues and right eigenvectors of a square array\n",
        "- https://docs.scipy.org/doc/scipy/reference/generated/scipy.linalg.eig.html#scipy-linalg-eig"
      ],
      "metadata": {
        "id": "KhAt9xK5hD6K"
      }
    },
    {
      "cell_type": "code",
      "source": [
        "from numpy import linalg as LA\n",
        "from scipy import linalg"
      ],
      "metadata": {
        "id": "Z_JeMfH1hDJI"
      },
      "execution_count": null,
      "outputs": []
    },
    {
      "cell_type": "code",
      "source": [
        "# Compute eigenvalues of [[1, -1], [1, 1]]\n",
        "a = np.array([[1, -1], [1, 1]]) # A v = \\lambda v\n",
        "w, v = LA.eig(a)\n",
        "print(w)\n",
        "print(v)"
      ],
      "metadata": {
        "id": "8N_7kRs9hRSv"
      },
      "execution_count": null,
      "outputs": []
    },
    {
      "cell_type": "markdown",
      "source": [
        "##### scipy.linalg.eigvals\n",
        "\n",
        "Compute eigenvalues from an ordinary or generalized eigenvalue problem\n",
        "- https://docs.scipy.org/doc/scipy/reference/generated/scipy.linalg.eigvals.html"
      ],
      "metadata": {
        "id": "9mvhD7nKhMiR"
      }
    },
    {
      "cell_type": "code",
      "source": [
        "# Compute eigenvalues of [[2, 1], [1, 2]]\n",
        "a = np.array([[2, 1], \n",
        "              [1, 2]])\n",
        "eigens = linalg.eigvals(a)\n",
        "print(eigens)"
      ],
      "metadata": {
        "id": "XV5F8Kv160u9"
      },
      "execution_count": null,
      "outputs": []
    },
    {
      "cell_type": "markdown",
      "source": [
        "### 3. Singular Value Decomposition (SVD)"
      ],
      "metadata": {
        "id": "V4gzXfsZiH8S"
      }
    },
    {
      "cell_type": "markdown",
      "source": [
        "##### numpy.linalg.svd\n",
        "\n",
        "Singular Value Decomposition\n",
        "- https://numpy.org/doc/stable/reference/generated/numpy.linalg.svd.html#numpy.linalg.svd"
      ],
      "metadata": {
        "id": "0jOV8yRmiNUT"
      }
    },
    {
      "cell_type": "code",
      "source": [
        "# Random number generation\n",
        "a = np.random.randn(9, 6) + 1j*np.random.randn(9, 6)\n",
        "print(a.shape)"
      ],
      "metadata": {
        "id": "2ZzbTQw2iHWI"
      },
      "execution_count": null,
      "outputs": []
    },
    {
      "cell_type": "code",
      "source": [
        "# SVD on the matrix a\n",
        "u, s, vh = np.linalg.svd(a)\n",
        "print(u.shape, s.shape, vh.shape)\n",
        "print(s)"
      ],
      "metadata": {
        "id": "QMw1kALRnvao"
      },
      "execution_count": null,
      "outputs": []
    },
    {
      "cell_type": "markdown",
      "source": [
        "##### scipy.linalg.svd\n",
        "\n",
        "Singular Value Decomposition\n",
        "- https://docs.scipy.org/doc/scipy/reference/generated/scipy.linalg.svd.html#scipy.linalg.svd"
      ],
      "metadata": {
        "id": "YOIIlSNWiHPe"
      }
    },
    {
      "cell_type": "code",
      "source": [
        "# Random number generation\n",
        "rng = np.random.default_rng()\n",
        "m, n = 9, 6\n",
        "a = rng.standard_normal((m, n)) + 1.j*rng.standard_normal((m, n))\n",
        "print(a.shape)"
      ],
      "metadata": {
        "id": "_HH_RNTBiHJe"
      },
      "execution_count": null,
      "outputs": []
    },
    {
      "cell_type": "code",
      "source": [
        "# SVD on the matrix a\n",
        "u, s, vh = linalg.svd(a)\n",
        "print(u.shape,  s.shape, vh.shape)\n",
        "print(s)"
      ],
      "metadata": {
        "id": "8WBD1xuOn-_w"
      },
      "execution_count": null,
      "outputs": []
    },
    {
      "cell_type": "markdown",
      "source": [
        "### 3. Dimensionality Reduction with SVD \n",
        "\n",
        "TruncatedSVD is sometimes called Latent Semantic Analysis (LSA)\n",
        "- https://scikit-learn.org/stable/modules/generated/sklearn.decomposition.TruncatedSVD.html"
      ],
      "metadata": {
        "id": "Ezo6--FxQPaz"
      }
    },
    {
      "cell_type": "code",
      "source": [
        "import numpy as np\n",
        "import pandas as pd\n",
        "import matplotlib.pyplot as plt\n",
        "import seaborn as sns\n",
        "\n",
        "from sklearn.datasets import load_iris\n",
        "from sklearn.decomposition import TruncatedSVD"
      ],
      "metadata": {
        "id": "Tb80D48OQPxg"
      },
      "execution_count": null,
      "outputs": []
    },
    {
      "cell_type": "code",
      "source": [
        "# Load iris dataset\n",
        "iris = load_iris()\n",
        "dataset= iris.data"
      ],
      "metadata": {
        "id": "KFTAb_e2QQAo"
      },
      "execution_count": null,
      "outputs": []
    },
    {
      "cell_type": "code",
      "source": [
        "# Call truncated SVD\n",
        "tsvd = TruncatedSVD(n_components=2)\n",
        "\n",
        "print('Before the Truncated SVD: ', dataset.shape)\n",
        "\n",
        "# Perform truncated SVD on iris dataset\n",
        "results = tsvd.fit_transform(dataset)\n",
        "print('After the Truncated SVD: ', results.shape)"
      ],
      "metadata": {
        "id": "nXhb75TaQP-e"
      },
      "execution_count": null,
      "outputs": []
    },
    {
      "cell_type": "code",
      "source": [
        "# Visualize reduced dataset\n",
        "plt.scatter(x=results[:,0], \n",
        "            y=results[:,1], \n",
        "            c=iris.target)\n",
        "plt.xlabel('TruncatedSVD Component 1')\n",
        "plt.ylabel('TruncatedSVD Component 2')"
      ],
      "metadata": {
        "id": "RVLaYh7kQP1v"
      },
      "execution_count": null,
      "outputs": []
    },
    {
      "cell_type": "markdown",
      "source": [
        "### 4. Image Reconstruction with SVD"
      ],
      "metadata": {
        "id": "3wa3SOuE61Td"
      }
    },
    {
      "cell_type": "code",
      "source": [
        "import cv2\n",
        "import numpy as np\n",
        "import matplotlib.pyplot as plt\n",
        "import seaborn as sns"
      ],
      "metadata": {
        "id": "wVgaiqnI67Zu"
      },
      "execution_count": null,
      "outputs": []
    },
    {
      "cell_type": "code",
      "source": [
        "# Load image  \n",
        "img = cv2.imread('newjeans.jpg')\n",
        "print('original image shape: ', img.shape)"
      ],
      "metadata": {
        "id": "tCWjBwZCnhcO"
      },
      "execution_count": null,
      "outputs": []
    },
    {
      "cell_type": "code",
      "source": [
        "# Resize image (optional)\n",
        "# img = cv2.resize(img, dsize=(500, 300))\n",
        "# img_gray  = np.random.rand(500, 300)\n",
        "# print('resized image shape: ', img.shape)"
      ],
      "metadata": {
        "id": "iytvuLEhobxE"
      },
      "execution_count": null,
      "outputs": []
    },
    {
      "cell_type": "code",
      "source": [
        "# Converting the image into gray scale\n",
        "img_gray = cv2.cvtColor(img, cv2.COLOR_BGR2GRAY)\n",
        "print('gray image shape: ', img_gray.shape)\n",
        "\n",
        "plt.figure()\n",
        "# plt.imshow(img_gray)"
      ],
      "metadata": {
        "id": "MLAnxChnobu3"
      },
      "execution_count": null,
      "outputs": []
    },
    {
      "cell_type": "code",
      "source": [
        "# Calculating the SVD\n",
        "u, s, v = np.linalg.svd(img_gray, full_matrices=False)\n",
        "\n",
        "s_diag = np.diag(s)\n",
        "print(s_diag.shape)\n",
        "\n",
        "# Inspect shapes of the matrices\n",
        "print(u.shape, s.shape, v.shape)\n",
        "\n",
        "print(s[:10])"
      ],
      "metadata": {
        "id": "oFIu4z0yofl2"
      },
      "execution_count": null,
      "outputs": []
    },
    {
      "cell_type": "code",
      "source": [
        "# Calculate the ratio of singular values\n",
        "# A singular value is the square root of an eigenvalue\n",
        "var_explained = np.round(s**2 / np.sum(s**2), decimals=6)\n",
        "\n",
        "# Variance explained top Singular vectors\n",
        "print('Top 20 singular values')\n",
        "sns.barplot(x=list(range(1, 21)),\n",
        "            y=var_explained[0:20],\n",
        "            color=\"dodgerblue\")\n",
        "  \n",
        "plt.title('Variance Explained Graph')\n",
        "plt.xlabel('Singular Vector', fontsize=16)\n",
        "plt.ylabel('Variance Explained', fontsize=16)\n",
        "plt.tight_layout()\n",
        "plt.show()"
      ],
      "metadata": {
        "id": "zcU8bWFM67Xm"
      },
      "execution_count": null,
      "outputs": []
    },
    {
      "cell_type": "code",
      "source": [
        "# Reconstruct using all components\n",
        "# img  ~= u * s * v^t\n",
        "# row_rank = u[:, :500] @ np.diag(s[:500]) @ v[:500, :]\n",
        "row_rank = u @ np.diag(s) @ v\n",
        "print(row_rank.shape)\n",
        "\n",
        "plt.figure()\n",
        "plt.imshow(row_rank)"
      ],
      "metadata": {
        "id": "F2IQCWCc67TY"
      },
      "execution_count": null,
      "outputs": []
    },
    {
      "cell_type": "code",
      "source": [
        "# Save image\n",
        "# cv2.imwrite('newjeans_gray.jpg', img_gray)\n",
        "# cv2.imwrite('newjeans_svd.jpg', low_rank)"
      ],
      "metadata": {
        "id": "3y7YFdWco2lm"
      },
      "execution_count": null,
      "outputs": []
    },
    {
      "cell_type": "code",
      "source": [
        "# plot figure\n",
        "plt.figure()\n",
        "\n",
        "# Plot reconstructed image\n",
        "plt.subplot(1, 2, 1)\n",
        "plt.imshow(low_rank, cmap='gray')\n",
        "\n",
        "# Plot original image\n",
        "plt.subplot(1, 2, 2)\n",
        "plt.imshow(img_gray, cmap='gray')"
      ],
      "metadata": {
        "id": "azoZgYJ4o8Wi"
      },
      "execution_count": null,
      "outputs": []
    },
    {
      "cell_type": "code",
      "source": [
        "# Plot images with different number of components\n",
        "comps = [500, 1, 5, 10, 15, 20] # top-k\n",
        "plt.figure(figsize=(12, 6))\n",
        "\n",
        "# Reconstruct using all components\n",
        "# img  ~= u * s * v^t\n",
        "for i in range(len(comps)):\n",
        "    # image recon\n",
        "    low_rank = u[:, :comps[i]] @ np.diag(s[:comps[i]]) @ v[:comps[i], :]\n",
        "      \n",
        "    if(i == 0):\n",
        "        plt.subplot(2, 3, i+1),\n",
        "        plt.imshow(low_rank, cmap='gray'),\n",
        "        plt.title('Actual Image with n_components = {}'.format(comps[i]))\n",
        "    else:\n",
        "        plt.subplot(2, 3, i+1),\n",
        "        plt.imshow(low_rank, cmap='gray'),\n",
        "        plt.title('n_components = {}'.format(comps[i]))\n",
        "        cv2.imwrite('newjeans_svd_{}.jpg'.format(comps[i]), low_rank)"
      ],
      "metadata": {
        "id": "ksQskcqt67RG"
      },
      "execution_count": null,
      "outputs": []
    },
    {
      "cell_type": "code",
      "source": [],
      "metadata": {
        "id": "BYfl0vTioFr_"
      },
      "execution_count": null,
      "outputs": []
    }
  ]
}