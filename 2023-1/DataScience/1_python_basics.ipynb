{
  "nbformat": 4,
  "nbformat_minor": 0,
  "metadata": {
    "colab": {
      "provenance": []
    },
    "kernelspec": {
      "name": "python3",
      "display_name": "Python 3"
    },
    "language_info": {
      "name": "python"
    }
  },
  "cells": [
    {
      "cell_type": "markdown",
      "source": [
        "# 데이터사이언스 (0010085001)\n",
        "\n",
        "## Exercise 1: Python Basics\n",
        "\n",
        "In this excercise, we will cover basic Python\n",
        "* List, Dictionary, Function, Class"
      ],
      "metadata": {
        "id": "snp4duXHfa9X"
      }
    },
    {
      "cell_type": "markdown",
      "source": [
        "### List\n",
        "A list is the Python equivalent of an array, but is resizeable and can contain elements of different types"
      ],
      "metadata": {
        "id": "tF1s4YuoBfhQ"
      }
    },
    {
      "cell_type": "code",
      "source": [
        "#############################################################\n",
        "# General Usage\n",
        "#############################################################\n",
        "xs = [3, 1, 2]\n",
        "\n",
        "# Print the last indice\n",
        "# Negative indices count from the end of the list\n",
        "print(xs[-1])"
      ],
      "metadata": {
        "id": "LMu05ix-BlC4",
        "colab": {
          "base_uri": "https://localhost:8080/"
        },
        "outputId": "6596b62b-ea62-47ba-803c-eee69cc11b4f"
      },
      "execution_count": null,
      "outputs": [
        {
          "output_type": "stream",
          "name": "stdout",
          "text": [
            "2\n"
          ]
        }
      ]
    },
    {
      "cell_type": "code",
      "source": [
        "# Add a new element to the end of the list\n",
        "xs.append('bar') \n",
        "print(xs)"
      ],
      "metadata": {
        "id": "3SBjI1XhBpe4",
        "colab": {
          "base_uri": "https://localhost:8080/"
        },
        "outputId": "2c03eec0-69ab-4f1b-c93e-c268a1a469a0"
      },
      "execution_count": null,
      "outputs": [
        {
          "output_type": "stream",
          "name": "stdout",
          "text": [
            "[3, 1, 2, 'bar']\n"
          ]
        }
      ]
    },
    {
      "cell_type": "code",
      "source": [
        "# Remove and return the last element of the list\n",
        "x = xs.pop()    \n",
        "print(x, xs)"
      ],
      "metadata": {
        "id": "XA0KdSR0Bqna"
      },
      "execution_count": null,
      "outputs": []
    },
    {
      "cell_type": "code",
      "source": [
        "#############################################################\n",
        "# Slicing\n",
        "#############################################################\n",
        "# Create a list containing [0, 1, 2, 3, 4, 5]\n",
        "# range is a built-in function that creates a list of integers\n",
        "nums = list(range(5))    \n",
        "print(nums)"
      ],
      "metadata": {
        "id": "HMWqcviMBquk"
      },
      "execution_count": null,
      "outputs": []
    },
    {
      "cell_type": "code",
      "source": [
        "# Get a slice from index 2 to 4 (exclusive); prints \"[2, 3]\"\n",
        "print(nums[2:4])"
      ],
      "metadata": {
        "id": "Kg4nlw6bBqxD"
      },
      "execution_count": null,
      "outputs": []
    },
    {
      "cell_type": "code",
      "source": [
        "# Get a slice from index 2 to the end; prints \"[2, 3, 4]\"\n",
        "print(nums[2:])"
      ],
      "metadata": {
        "id": "YLoCMFVcBqzt"
      },
      "execution_count": null,
      "outputs": []
    },
    {
      "cell_type": "code",
      "source": [
        "# Get a slice from the start to index 2 (exclusive); prints \"[0, 1]\"\n",
        "print(nums[:2])"
      ],
      "metadata": {
        "id": "AT0oGlvABq12"
      },
      "execution_count": null,
      "outputs": []
    },
    {
      "cell_type": "code",
      "source": [
        "# Get a slice of the whole list; prints [\"0, 1, 2, 3, 4]\"\n",
        "print(nums[:])"
      ],
      "metadata": {
        "id": "EZ-rBb4QBvB-"
      },
      "execution_count": null,
      "outputs": []
    },
    {
      "cell_type": "code",
      "source": [
        "# Assign a new sublist to a slice; change nums into [0, 1, 8, 9, 4]\n",
        "nums[2:4] = [8, 9] \n",
        "print(nums)"
      ],
      "metadata": {
        "id": "GoIQcfHoBvEW"
      },
      "execution_count": null,
      "outputs": []
    },
    {
      "cell_type": "code",
      "source": [
        "#############################################################\n",
        "# Loop & Enumerate\n",
        "#############################################################\n",
        "animals = ['cat', 'dog', 'monkey']\n",
        "\n",
        "# Loop over and print the elements of the list:\n",
        "for animal in animals:\n",
        "    print(animal)"
      ],
      "metadata": {
        "id": "mdHbz6gXBvG1"
      },
      "execution_count": null,
      "outputs": []
    },
    {
      "cell_type": "code",
      "source": [
        "# Loop over and print the index and value of each elements of the list:\n",
        "for idx, animal in enumerate(animals):\n",
        "    print('#%d: %s' % (idx + 1, animal))"
      ],
      "metadata": {
        "id": "2ixeXK_1gUYq"
      },
      "execution_count": null,
      "outputs": []
    },
    {
      "cell_type": "code",
      "source": [
        "#############################################################\n",
        "# List comprehensions\n",
        "#############################################################\n",
        "nums = [0, 1, 2, 3, 4]\n",
        "squares = []\n",
        "for x in nums:\n",
        "    squares.append(x ** 2)\n",
        "print(squares)"
      ],
      "metadata": {
        "id": "s-hZw8g7BvJM"
      },
      "execution_count": null,
      "outputs": []
    },
    {
      "cell_type": "code",
      "source": [
        "# Make this code simpler using a list comprehension\n",
        "squares = [x ** 2 for x in nums]\n",
        "print(squares)"
      ],
      "metadata": {
        "id": "W6YH89wsBvL0"
      },
      "execution_count": null,
      "outputs": []
    },
    {
      "cell_type": "code",
      "source": [
        "# Make a list of squares of even numbers in the list\n",
        "# List comprehensions can also contain conditions\n",
        "even_squares = [x ** 2 for x in nums if x % 2 == 0]\n",
        "print(even_squares)"
      ],
      "metadata": {
        "id": "o2NDYta-BvOS"
      },
      "execution_count": null,
      "outputs": []
    },
    {
      "cell_type": "markdown",
      "source": [
        "### Dictionary\n",
        "A dictionary stores (key, value) pairs"
      ],
      "metadata": {
        "id": "MbL6l1JbBlT3"
      }
    },
    {
      "cell_type": "code",
      "source": [
        "#############################################################\n",
        "# General Usage\n",
        "#############################################################\n",
        "# Create a dictionary containing the followings key:value pairs\n",
        "# cat:cute  /  dog:furry\n",
        "d = {'cat': 'cute', 'dog': 'furry'}"
      ],
      "metadata": {
        "id": "iawPtaTPBlrn"
      },
      "execution_count": null,
      "outputs": []
    },
    {
      "cell_type": "code",
      "source": [
        "# print an entry 'cat' from a dictionary; prints 'cute'\n",
        "print(d['cat'])"
      ],
      "metadata": {
        "id": "J78BR-PXB7Z7"
      },
      "execution_count": null,
      "outputs": []
    },
    {
      "cell_type": "code",
      "source": [
        "# Add another key:value pair\n",
        "# fish:wet\n",
        "d['fish'] = 'wet'"
      ],
      "metadata": {
        "id": "GOTRjlpuB7cO"
      },
      "execution_count": null,
      "outputs": []
    },
    {
      "cell_type": "code",
      "source": [
        "# Get an element with a default; prints \"N/A\" if not exists\n",
        "# fish / monkey\n",
        "print(d.get('fish', 'N/A'))    \n",
        "print(d.get('monkey', 'N/A'))"
      ],
      "metadata": {
        "id": "p78csY1RB7eW"
      },
      "execution_count": null,
      "outputs": []
    },
    {
      "cell_type": "code",
      "source": [
        "# Remove 'fish' from the dictionary\n",
        "del d['fish']       \n",
        "print(d)"
      ],
      "metadata": {
        "id": "VPoNnuPYB7gt"
      },
      "execution_count": null,
      "outputs": []
    },
    {
      "cell_type": "code",
      "source": [
        "#############################################################\n",
        "# Loop & Dictionary comprehensions\n",
        "#############################################################\n",
        "d = {'person': 2, 'cat': 4, 'spider': 8}\n",
        "\n",
        "# Loop over keys of the dictionary\n",
        "# Access the values with the keys\n",
        "for animal in d:\n",
        "    legs = d[animal]\n",
        "    print('A %s has %d legs' % (animal, legs))"
      ],
      "metadata": {
        "id": "e9HZ7wpkB7jh"
      },
      "execution_count": null,
      "outputs": []
    },
    {
      "cell_type": "code",
      "source": [
        "# Loop over keys and values of the dictionary\n",
        "for animal, legs in d.items():\n",
        "    print('A %s has %d legs' % (animal, legs))"
      ],
      "metadata": {
        "id": "x1imJt6MB7lq"
      },
      "execution_count": null,
      "outputs": []
    },
    {
      "cell_type": "code",
      "source": [
        "# Make a dictionary of key:squares of even numbers in the list\n",
        "# Dictionary comprehensions can also contain conditions\n",
        "nums = [0, 1, 2, 3, 4]\n",
        "even_num_to_square = {x: x ** 2 for x in nums if x % 2 == 0}\n",
        "print(even_num_to_square)"
      ],
      "metadata": {
        "id": "Bys5d_ZbB7n_"
      },
      "execution_count": null,
      "outputs": []
    },
    {
      "cell_type": "markdown",
      "source": [
        "### Function\n",
        "Python functions are defined using the `def` keyword"
      ],
      "metadata": {
        "id": "QkbXBievBl_u"
      }
    },
    {
      "cell_type": "code",
      "source": [
        "#############################################################\n",
        "# General Usage\n",
        "#############################################################\n",
        "# Define a function called sign with argument <x>\n",
        "# print 'positive' if x > 0\n",
        "# print 'negative' if x < 0\n",
        "# print 'zero' if x = 0\n",
        "def sign(x):\n",
        "    if x > 0:\n",
        "        return 'positive'\n",
        "    elif x < 0:\n",
        "        return 'negative'\n",
        "    else:\n",
        "        return 'zero'\n",
        "\n",
        "for x in [-1, 0, 1]:\n",
        "    print(sign(x))"
      ],
      "metadata": {
        "id": "EJjxva_-Txdh"
      },
      "execution_count": null,
      "outputs": []
    },
    {
      "cell_type": "code",
      "source": [
        "#############################################################\n",
        "# Optional keyword argument\n",
        "#############################################################\n",
        "# Define a function called hello takes\n",
        "# arguement <name>\n",
        "# optional argument <loud> with default value False\n",
        "# print \"HELLO, [name in large letter]\" if loud = True\n",
        "# print \"HELLO, [name in given form]\" if loud = False\n",
        "def hello(name, loud=False):\n",
        "    if loud:\n",
        "        print('HELLO, %s' % name.upper())\n",
        "    else:\n",
        "        print('Hello, %s!' % name)\n",
        "        \n",
        "hello('Bob')\n",
        "hello('Fred', loud=True)"
      ],
      "metadata": {
        "id": "XmDPH1_ygkOB"
      },
      "execution_count": null,
      "outputs": []
    }
  ]
}