{
 "cells": [
  {
   "cell_type": "code",
   "execution_count": 1,
   "id": "c03694fc",
   "metadata": {},
   "outputs": [
    {
     "name": "stdout",
     "output_type": "stream",
     "text": [
      "<ul class=\"list_nav type_fix\">\n",
      "<li class=\"nav_item\">\n",
      "<a class=\"nav\" data-clk=\"svc.mail\" href=\"https://mail.naver.com/\"><i class=\"ico_mail\"></i>메일</a>\n",
      "</li>\n",
      "<li class=\"nav_item\"><a class=\"nav\" data-clk=\"svc.cafe\" href=\"https://section.cafe.naver.com/\">카페</a></li>\n",
      "<li class=\"nav_item\"><a class=\"nav\" data-clk=\"svc.blog\" href=\"https://section.blog.naver.com/\">블로그</a></li>\n",
      "<li class=\"nav_item\"><a class=\"nav\" data-clk=\"svc.kin\" href=\"https://kin.naver.com/\">지식iN</a></li>\n",
      "<li class=\"nav_item\"><a class=\"nav shop\" data-clk=\"svc.shopping\" href=\"https://shopping.naver.com/\"><span class=\"blind\">쇼핑</span></a></li>\n",
      "<li class=\"nav_item\"><a class=\"nav shoplive\" data-clk=\"svc.shoppinglive\" href=\"https://shoppinglive.naver.com/home\"><span class=\"blind\">쇼핑LIVE</span></a></li>\n",
      "<li class=\"nav_item\"><a class=\"nav\" data-clk=\"svc.pay\" href=\"https://order.pay.naver.com/home\">Pay</a></li>\n",
      "<li class=\"nav_item\">\n",
      "<a class=\"nav\" data-clk=\"svc.tvcast\" href=\"https://tv.naver.com/\"><i class=\"ico_tv\"></i>TV</a>\n",
      "</li>\n",
      "</ul>\n"
     ]
    }
   ],
   "source": [
    "from bs4 import BeautifulSoup\n",
    "from urllib.request import urlopen\n",
    "\n",
    "url = \"https://www.naver.com\"\n",
    "html = urlopen(url)\n",
    "\n",
    "soup = BeautifulSoup(html.read(),\"html.parser\")  \n",
    "\n",
    "result = soup.find(\"ul\",{\"class\":\"list_nav type_fix\"})\n",
    "print(result)"
   ]
  },
  {
   "cell_type": "code",
   "execution_count": 2,
   "id": "91ed2237",
   "metadata": {},
   "outputs": [
    {
     "name": "stdout",
     "output_type": "stream",
     "text": [
      "[<li class=\"nav_item\">\n",
      "<a class=\"nav\" data-clk=\"svc.mail\" href=\"https://mail.naver.com/\"><i class=\"ico_mail\"></i>메일</a>\n",
      "</li>, <li class=\"nav_item\"><a class=\"nav\" data-clk=\"svc.cafe\" href=\"https://section.cafe.naver.com/\">카페</a></li>, <li class=\"nav_item\"><a class=\"nav\" data-clk=\"svc.blog\" href=\"https://section.blog.naver.com/\">블로그</a></li>, <li class=\"nav_item\"><a class=\"nav\" data-clk=\"svc.kin\" href=\"https://kin.naver.com/\">지식iN</a></li>, <li class=\"nav_item\"><a class=\"nav shop\" data-clk=\"svc.shopping\" href=\"https://shopping.naver.com/\"><span class=\"blind\">쇼핑</span></a></li>, <li class=\"nav_item\"><a class=\"nav shoplive\" data-clk=\"svc.shoppinglive\" href=\"https://shoppinglive.naver.com/home\"><span class=\"blind\">쇼핑LIVE</span></a></li>, <li class=\"nav_item\"><a class=\"nav\" data-clk=\"svc.pay\" href=\"https://order.pay.naver.com/home\">Pay</a></li>, <li class=\"nav_item\">\n",
      "<a class=\"nav\" data-clk=\"svc.tvcast\" href=\"https://tv.naver.com/\"><i class=\"ico_tv\"></i>TV</a>\n",
      "</li>]\n"
     ]
    }
   ],
   "source": [
    "from bs4 import BeautifulSoup\n",
    "from urllib.request import urlopen\n",
    "\n",
    "url = \"https://www.naver.com\"\n",
    "html = urlopen(url)\n",
    "\n",
    "soup = BeautifulSoup(html.read(),\"html.parser\")  \n",
    "\n",
    "result = soup.find(\"ul\",{\"class\":\"list_nav type_fix\"})\n",
    "li_result = result.find_all(\"li\")\n",
    "print(li_result)"
   ]
  },
  {
   "cell_type": "code",
   "execution_count": 4,
   "id": "5e6d3078",
   "metadata": {},
   "outputs": [
    {
     "name": "stdout",
     "output_type": "stream",
     "text": [
      "<li class=\"nav_item\">\n",
      "<a class=\"nav\" data-clk=\"svc.mail\" href=\"https://mail.naver.com/\"><i class=\"ico_mail\"></i>메일</a>\n",
      "</li>\n",
      "<li class=\"nav_item\"><a class=\"nav\" data-clk=\"svc.cafe\" href=\"https://section.cafe.naver.com/\">카페</a></li>\n",
      "<li class=\"nav_item\"><a class=\"nav\" data-clk=\"svc.blog\" href=\"https://section.blog.naver.com/\">블로그</a></li>\n",
      "<li class=\"nav_item\"><a class=\"nav\" data-clk=\"svc.kin\" href=\"https://kin.naver.com/\">지식iN</a></li>\n",
      "<li class=\"nav_item\"><a class=\"nav shop\" data-clk=\"svc.shopping\" href=\"https://shopping.naver.com/\"><span class=\"blind\">쇼핑</span></a></li>\n",
      "<li class=\"nav_item\"><a class=\"nav shoplive\" data-clk=\"svc.shoppinglive\" href=\"https://shoppinglive.naver.com/home\"><span class=\"blind\">쇼핑LIVE</span></a></li>\n",
      "<li class=\"nav_item\"><a class=\"nav\" data-clk=\"svc.pay\" href=\"https://order.pay.naver.com/home\">Pay</a></li>\n",
      "<li class=\"nav_item\">\n",
      "<a class=\"nav\" data-clk=\"svc.tvcast\" href=\"https://tv.naver.com/\"><i class=\"ico_tv\"></i>TV</a>\n",
      "</li>\n",
      "메일\n",
      "카페\n",
      "블로그\n",
      "지식iN\n",
      "쇼핑\n",
      "쇼핑LIVE\n",
      "Pay\n",
      "TV\n"
     ]
    }
   ],
   "source": [
    "from bs4 import BeautifulSoup\n",
    "from urllib.request import urlopen\n",
    "\n",
    "url = \"https://www.naver.com\"\n",
    "html = urlopen(url)\n",
    "\n",
    "soup = BeautifulSoup(html.read(),\"html.parser\")  \n",
    "\n",
    "result = soup.find(\"ul\",{\"class\":\"list_nav type_fix\"})\n",
    "li_result = result.find_all(\"li\")\n",
    "\n",
    "for li_res in li_result:## li_res는 li_result값을 잠시 저장하는 임시변수\n",
    "    print(li_res)\n",
    "    \n",
    "for li_res in li_result:\n",
    "    print(li_res.find(\"a\").text)"
   ]
  },
  {
   "cell_type": "code",
   "execution_count": 1,
   "id": "61384bc1",
   "metadata": {},
   "outputs": [
    {
     "name": "stdout",
     "output_type": "stream",
     "text": [
      "<ul class=\"list_nav type_fix\">\n",
      "<li class=\"nav_item\">\n",
      "<a class=\"nav\" data-clk=\"svc.mail\" href=\"https://mail.naver.com/\"><i class=\"ico_mail\"></i>메일</a>\n",
      "</li>\n",
      "<li class=\"nav_item\"><a class=\"nav\" data-clk=\"svc.cafe\" href=\"https://section.cafe.naver.com/\">카페</a></li>\n",
      "<li class=\"nav_item\"><a class=\"nav\" data-clk=\"svc.blog\" href=\"https://section.blog.naver.com/\">블로그</a></li>\n",
      "<li class=\"nav_item\"><a class=\"nav\" data-clk=\"svc.kin\" href=\"https://kin.naver.com/\">지식iN</a></li>\n",
      "<li class=\"nav_item\"><a class=\"nav shop\" data-clk=\"svc.shopping\" href=\"https://shopping.naver.com/\"><span class=\"blind\">쇼핑</span></a></li>\n",
      "<li class=\"nav_item\"><a class=\"nav shoplive\" data-clk=\"svc.shoppinglive\" href=\"https://shoppinglive.naver.com/home\"><span class=\"blind\">쇼핑LIVE</span></a></li>\n",
      "<li class=\"nav_item\"><a class=\"nav\" data-clk=\"svc.pay\" href=\"https://order.pay.naver.com/home\">Pay</a></li>\n",
      "<li class=\"nav_item\">\n",
      "<a class=\"nav\" data-clk=\"svc.tvcast\" href=\"https://tv.naver.com/\"><i class=\"ico_tv\"></i>TV</a>\n",
      "</li>\n",
      "</ul>\n"
     ]
    }
   ],
   "source": [
    "from bs4 import BeautifulSoup\n",
    "from urllib.request import urlopen\n",
    "\n",
    "url = \"https://www.naver.com\"\n",
    "html = urlopen(url)\n",
    "soup = BeautifulSoup(html.read(),\"html.parser\")\n",
    "\n",
    "ul = soup.find(\"ul\",{\"class\":\"list_nav type_fix\"})\n",
    "print(ul)"
   ]
  },
  {
   "cell_type": "code",
   "execution_count": 2,
   "id": "438ac983",
   "metadata": {},
   "outputs": [
    {
     "name": "stdout",
     "output_type": "stream",
     "text": [
      "[<li class=\"nav_item\">\n",
      "<a class=\"nav\" data-clk=\"svc.mail\" href=\"https://mail.naver.com/\"><i class=\"ico_mail\"></i>메일</a>\n",
      "</li>, <li class=\"nav_item\"><a class=\"nav\" data-clk=\"svc.cafe\" href=\"https://section.cafe.naver.com/\">카페</a></li>, <li class=\"nav_item\"><a class=\"nav\" data-clk=\"svc.blog\" href=\"https://section.blog.naver.com/\">블로그</a></li>, <li class=\"nav_item\"><a class=\"nav\" data-clk=\"svc.kin\" href=\"https://kin.naver.com/\">지식iN</a></li>, <li class=\"nav_item\"><a class=\"nav shop\" data-clk=\"svc.shopping\" href=\"https://shopping.naver.com/\"><span class=\"blind\">쇼핑</span></a></li>, <li class=\"nav_item\"><a class=\"nav shoplive\" data-clk=\"svc.shoppinglive\" href=\"https://shoppinglive.naver.com/home\"><span class=\"blind\">쇼핑LIVE</span></a></li>, <li class=\"nav_item\"><a class=\"nav\" data-clk=\"svc.pay\" href=\"https://order.pay.naver.com/home\">Pay</a></li>, <li class=\"nav_item\">\n",
      "<a class=\"nav\" data-clk=\"svc.tvcast\" href=\"https://tv.naver.com/\"><i class=\"ico_tv\"></i>TV</a>\n",
      "</li>]\n"
     ]
    }
   ],
   "source": [
    "from bs4 import BeautifulSoup\n",
    "from urllib.request import urlopen\n",
    "\n",
    "url = \"https://www.naver.com\"\n",
    "html = urlopen(url)\n",
    "soup = BeautifulSoup(html.read(),\"html.parser\")\n",
    "\n",
    "ul = soup.find(\"ul\",{\"class\":\"list_nav type_fix\"})\n",
    "li = ul.find_all(\"li\")\n"
   ]
  },
  {
   "cell_type": "code",
   "execution_count": 17,
   "id": "b5a04451",
   "metadata": {},
   "outputs": [
    {
     "name": "stdout",
     "output_type": "stream",
     "text": [
      "메일\n",
      "카페\n",
      "블로그\n",
      "지식iN\n",
      "쇼핑\n",
      "쇼핑LIVE\n",
      "Pay\n",
      "TV\n"
     ]
    }
   ],
   "source": [
    "from bs4 import BeautifulSoup\n",
    "from urllib.request import urlopen\n",
    "\n",
    "url = \"https://www.naver.com\"\n",
    "html = urlopen(url)\n",
    "soup = BeautifulSoup(html.read(),\"html.parser\")\n",
    "ul = soup.find(\"ul\",{\"class\":\"list_nav type_fix\"})\n",
    "li = ul.find_all(\"li\")\n",
    "for li_res in li:\n",
    "    print(li_res.find(\"a\").text)"
   ]
  }
 ],
 "metadata": {
  "kernelspec": {
   "display_name": "Python 3 (ipykernel)",
   "language": "python",
   "name": "python3"
  },
  "language_info": {
   "codemirror_mode": {
    "name": "ipython",
    "version": 3
   },
   "file_extension": ".py",
   "mimetype": "text/x-python",
   "name": "python",
   "nbconvert_exporter": "python",
   "pygments_lexer": "ipython3",
   "version": "3.9.12"
  }
 },
 "nbformat": 4,
 "nbformat_minor": 5
}
