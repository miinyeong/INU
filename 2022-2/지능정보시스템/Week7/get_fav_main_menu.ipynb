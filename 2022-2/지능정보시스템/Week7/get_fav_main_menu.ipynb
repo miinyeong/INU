{
 "cells": [
  {
   "cell_type": "code",
   "execution_count": 2,
   "id": "f79963b3",
   "metadata": {},
   "outputs": [
    {
     "name": "stdout",
     "output_type": "stream",
     "text": [
      "사전\n",
      "뉴스\n",
      "증권\n",
      "부동산\n",
      "지도\n",
      "VIBE\n",
      "도서\n",
      "웹툰\n"
     ]
    }
   ],
   "source": [
    "from bs4 import BeautifulSoup\n",
    "from urllib.request import urlopen\n",
    "\n",
    "url = \"https://www.naver.com\"\n",
    "html = urlopen(url)\n",
    "\n",
    "soup = BeautifulSoup(html.read(),\"html.parser\")  \n",
    "\n",
    "result = soup.find(\"ul\",{\"class\":\"list_nav NM_FAVORITE_LIST\"})\n",
    "li_result = result.find_all(\"li\")\n",
    "\n",
    "for li_res in li_result:\n",
    "    print(li_res.find(\"a\").text)"
   ]
  }
 ],
 "metadata": {
  "kernelspec": {
   "display_name": "Python 3 (ipykernel)",
   "language": "python",
   "name": "python3"
  },
  "language_info": {
   "codemirror_mode": {
    "name": "ipython",
    "version": 3
   },
   "file_extension": ".py",
   "mimetype": "text/x-python",
   "name": "python",
   "nbconvert_exporter": "python",
   "pygments_lexer": "ipython3",
   "version": "3.10.4"
  }
 },
 "nbformat": 4,
 "nbformat_minor": 5
}
