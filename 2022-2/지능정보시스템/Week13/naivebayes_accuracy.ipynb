{
 "cells": [
  {
   "cell_type": "code",
   "execution_count": null,
   "id": "4627e37b",
   "metadata": {},
   "outputs": [],
   "source": [
    "## import urllib\n",
    "## urllib.request.urlretrieve(\"https://raw.githubusercontent.com/e9t/nsmc/master/ratings_train.txt\", filename=\"ratings_train.txt\")\n",
    "## urllib.request.urlretrieve(\"https://raw.githubusercontent.com/e9t/nsmc/master/ratings_test.txt\", filename=\"ratings_test.txt\")"
   ]
  },
  {
   "cell_type": "code",
   "execution_count": 41,
   "id": "e20e5e7e",
   "metadata": {},
   "outputs": [],
   "source": [
    "from nltk.tokenize import word_tokenize\n",
    "import nltk\n",
    "def load_data(file_path):\n",
    "    #file_path에 있는 데이터를 읽어 옴\n",
    "    \n",
    "    train = []\n",
    "    \n",
    "    count = 0\n",
    "    with open(file_path, 'r', encoding='utf-8') as f:\n",
    "        for line in f.readlines():\n",
    "            if count == 500: break     # 500개만 가져옴\n",
    "            line = line.strip()\n",
    "            id, doc, label = line.split('\\t')\n",
    "            if label == '1': label = 'pos'\n",
    "            elif label == '0': label = 'neg'\n",
    "            train.append((doc,label))\n",
    "            count += 1\n",
    "            \n",
    "    return train"
   ]
  },
  {
   "cell_type": "code",
   "execution_count": 42,
   "id": "763a87e2",
   "metadata": {},
   "outputs": [
    {
     "name": "stdout",
     "output_type": "stream",
     "text": [
      "[('document', 'label'), ('아 더빙.. 진짜 짜증나네요 목소리', 'neg'), ('흠...포스터보고 초딩영화줄....오버연기조차 가볍지 않구나', 'pos'), ('너무재밓었다그래서보는것을추천한다', 'neg'), ('교도소 이야기구먼 ..솔직히 재미는 없다..평점 조정', 'neg')]\n"
     ]
    }
   ],
   "source": [
    "train = load_data('ratings_train.txt')\n",
    "print(train[:5])"
   ]
  },
  {
   "cell_type": "code",
   "execution_count": 43,
   "id": "0099f8e5",
   "metadata": {},
   "outputs": [
    {
     "name": "stdout",
     "output_type": "stream",
     "text": [
      "[('아 더빙.. 진짜 짜증나네요 목소리', 'neg'), ('흠...포스터보고 초딩영화줄....오버연기조차 가볍지 않구나', 'pos'), ('너무재밓었다그래서보는것을추천한다', 'neg'), ('교도소 이야기구먼 ..솔직히 재미는 없다..평점 조정', 'neg'), ('사이몬페그의 익살스런 연기가 돋보였던 영화!스파이더맨에서 늙어보이기만 했던 커스틴 던스트가 너무나도 이뻐보였다', 'pos')]\n"
     ]
    }
   ],
   "source": [
    "train = train[1:]\n",
    "print(train[:5])"
   ]
  },
  {
   "cell_type": "markdown",
   "id": "4a6cb6d6",
   "metadata": {},
   "source": [
    "## 작성한 내용 함수로 만들기"
   ]
  },
  {
   "cell_type": "code",
   "execution_count": 44,
   "id": "39748622",
   "metadata": {},
   "outputs": [],
   "source": [
    "from konlpy.tag import Okt\n",
    "okt = Okt()\n",
    "\n",
    "def pos_tokenize(raw_sent):\n",
    "    pos_sent = []\n",
    "    \n",
    "    #raw_sent: 사과가 좋아\n",
    "    sent = okt.pos(raw_sent, norm=True, stem=True)\n",
    "    #sent: [('사과', 'Noun'),('가','Josa'),('좋다','Adjective')]\n",
    "    \n",
    "    for tup in sent: \n",
    "        word, tag = tup[0], tup[1]    # tup: ('사과', 'Noun')\n",
    "        word_tag = word + '/' + tag  # word_tag: '사과/Noun'\n",
    "        pos_sent.append(word_tag)\n",
    "        \n",
    "    return ' '.join(pos_sent)\n",
    "\n",
    "def make_word_dict(train, use_morph=False):\n",
    "    all_words = set()\n",
    "\n",
    "    for tup in train:\n",
    "        sent, label = tup[0], tup[1]  #ex) sent = 'l like you', label = 'pos'\n",
    "        if use_morph: sent = pos_tokenize(sent)\n",
    "        words = word_tokenize(sent)\n",
    "        for word in words:\n",
    "            all_words.add(word)\n",
    "    return all_words\n",
    "def make_train_features(train, all_words, use_morph=False):\n",
    "    train_features = []\n",
    "\n",
    "    for tup in train:\n",
    "        sent, label = tup[0], tup[1]\n",
    "        if use_morph: sent = pos_tokenize(sent)\n",
    "        words = word_tokenize(sent)\n",
    "        tmp = {set_word: (set_word in words) for set_word in all_words} # set_word가 words에 있는지 여부 판별\n",
    "        sent_tup = (tmp, label)\n",
    "        train_features.append(sent_tup)\n",
    "            \n",
    "    return train_features"
   ]
  },
  {
   "cell_type": "markdown",
   "id": "7985c4ca",
   "metadata": {},
   "source": [
    "## 테스트하기 1"
   ]
  },
  {
   "cell_type": "code",
   "execution_count": 45,
   "id": "44399cc0",
   "metadata": {},
   "outputs": [
    {
     "name": "stdout",
     "output_type": "stream",
     "text": [
      "단어 집합 개수:  2322\n"
     ]
    }
   ],
   "source": [
    "use_morph = True\n",
    "all_words = make_word_dict(train, use_morph)\n",
    "print('단어 집합 개수: ', len(all_words))\n",
    "\n",
    "train_features = make_train_features(train, all_words, use_morph)"
   ]
  },
  {
   "cell_type": "code",
   "execution_count": 46,
   "id": "15e9828d",
   "metadata": {},
   "outputs": [
    {
     "name": "stdout",
     "output_type": "stream",
     "text": [
      "Most Informative Features\n",
      "                       ; = True              neg : pos    =      8.2 : 1.0\n",
      "          재미없다/Adjective = True              neg : pos    =      8.2 : 1.0\n",
      "                주인공/Noun = True              neg : pos    =      7.5 : 1.0\n",
      "                 최고/Noun = True              pos : neg    =      6.9 : 1.0\n",
      "                  뭐/Noun = True              neg : pos    =      6.8 : 1.0\n",
      "           재밌다/Adjective = True              pos : neg    =      6.5 : 1.0\n",
      "                 내용/Noun = True              neg : pos    =      6.2 : 1.0\n",
      "       ㅡㅡ/KoreanParticle = True              neg : pos    =      6.1 : 1.0\n",
      "                스토리/Noun = True              neg : pos    =      6.1 : 1.0\n",
      "                 다시/Noun = True              pos : neg    =      5.9 : 1.0\n"
     ]
    }
   ],
   "source": [
    "classifier = nltk.NaiveBayesClassifier.train(train_features)\n",
    "classifier.show_most_informative_features()\n",
    "## classifier.show_most_informative_features(n=5)"
   ]
  },
  {
   "cell_type": "code",
   "execution_count": 8,
   "id": "86882fa9",
   "metadata": {},
   "outputs": [],
   "source": [
    "test_sent = '보다가 중간에 나왔습니다.'\n",
    "if use_morph: test_sent = pos_tokenize(test_sent)\n",
    "words = word_tokenize(test_sent)\n",
    "test_feature = {set_word: (set_word in words) for set_word in all_words}"
   ]
  },
  {
   "cell_type": "code",
   "execution_count": 9,
   "id": "08a6f098",
   "metadata": {},
   "outputs": [
    {
     "data": {
      "text/plain": [
       "'pos'"
      ]
     },
     "execution_count": 9,
     "metadata": {},
     "output_type": "execute_result"
    }
   ],
   "source": [
    "classifier.classify(test_feature)"
   ]
  },
  {
   "cell_type": "markdown",
   "id": "a8604dd1",
   "metadata": {},
   "source": [
    "## 테스트하기 2"
   ]
  },
  {
   "cell_type": "code",
   "execution_count": 10,
   "id": "84b60047",
   "metadata": {},
   "outputs": [
    {
     "name": "stdout",
     "output_type": "stream",
     "text": [
      "단어 집합 개수:  3046\n"
     ]
    }
   ],
   "source": [
    "use_morph = False\n",
    "all_words = make_word_dict(train, use_morph)\n",
    "print('단어 집합 개수: ', len(all_words))\n",
    "\n",
    "train_features = make_train_features(train, all_words, use_morph)"
   ]
  },
  {
   "cell_type": "code",
   "execution_count": 11,
   "id": "f4af682c",
   "metadata": {},
   "outputs": [
    {
     "name": "stdout",
     "output_type": "stream",
     "text": [
      "Most Informative Features\n",
      "                       ; = True              neg : pos    =      8.2 : 1.0\n",
      "                       그 = True              pos : neg    =      4.7 : 1.0\n",
      "                       수 = True              pos : neg    =      4.7 : 1.0\n",
      "                      ㅡㅡ = True              neg : pos    =      4.6 : 1.0\n",
      "                       ! = True              pos : neg    =      4.0 : 1.0\n",
      "                    스토리도 = True              neg : pos    =      3.9 : 1.0\n",
      "                      이거 = True              neg : pos    =      3.9 : 1.0\n",
      "                     하나도 = True              neg : pos    =      3.9 : 1.0\n",
      "                      없다 = True              neg : pos    =      3.6 : 1.0\n",
      "                       ? = True              neg : pos    =      3.6 : 1.0\n"
     ]
    }
   ],
   "source": [
    "classifier = nltk.NaiveBayesClassifier.train(train_features)\n",
    "classifier.show_most_informative_features()"
   ]
  },
  {
   "cell_type": "code",
   "execution_count": 12,
   "id": "3eac708e",
   "metadata": {},
   "outputs": [
    {
     "data": {
      "text/plain": [
       "'neg'"
      ]
     },
     "execution_count": 12,
     "metadata": {},
     "output_type": "execute_result"
    }
   ],
   "source": [
    "test_sent = '보다가 중간에 나왔습니다.'\n",
    "if use_morph: test_sent = pos_tokenize(test_sent)\n",
    "words = word_tokenize(test_sent)\n",
    "test_feature = {set_word: (set_word in words) for set_word in all_words}\n",
    "\n",
    "classifier.classify(test_feature)"
   ]
  },
  {
   "cell_type": "markdown",
   "id": "94a14449",
   "metadata": {},
   "source": [
    "# 실습"
   ]
  },
  {
   "cell_type": "code",
   "execution_count": 35,
   "id": "844a6846",
   "metadata": {},
   "outputs": [],
   "source": [
    "def load_data(file_path):\n",
    "    #file_path에 있는 데이터를 읽어 옴\n",
    "    \n",
    "    train = []\n",
    "    \n",
    "    count = 0\n",
    "    with open(file_path, 'r', encoding='utf-8') as f:\n",
    "        for line in f.readlines():\n",
    "            if count == 500: break     # 500개만 가져옴\n",
    "            line = line.strip()\n",
    "            id, doc, label = line.split('\\t')\n",
    "            if label == '1': label = 'pos'\n",
    "            elif label == '0': label = 'neg'\n",
    "            train.append((doc,label))\n",
    "            count += 1\n",
    "            \n",
    "    return train"
   ]
  },
  {
   "cell_type": "code",
   "execution_count": 47,
   "id": "a1a31a5f",
   "metadata": {},
   "outputs": [
    {
     "data": {
      "text/plain": [
       "0.7154308617234469"
      ]
     },
     "execution_count": 47,
     "metadata": {},
     "output_type": "execute_result"
    }
   ],
   "source": [
    "test = load_data('ratings_test.txt')\n",
    "test = test[1:]\n",
    "test_features = make_train_features(test, all_words, use_morph)\n",
    "nltk.classify.accuracy(classifier, test_features)"
   ]
  },
  {
   "cell_type": "code",
   "execution_count": 50,
   "id": "4782c633",
   "metadata": {},
   "outputs": [],
   "source": [
    "def load_data(file_path):\n",
    "    #file_path에 있는 데이터를 읽어 옴\n",
    "    \n",
    "    train = []\n",
    "    \n",
    "    count = 0\n",
    "    with open(file_path, 'r', encoding='utf-8') as f:\n",
    "        for line in f.readlines():\n",
    "            if count == 1000: break     # 500개만 가져옴\n",
    "            line = line.strip()\n",
    "            id, doc, label = line.split('\\t')\n",
    "            if label == '1': label = 'pos'\n",
    "            elif label == '0': label = 'neg'\n",
    "            train.append((doc,label))\n",
    "            count += 1\n",
    "            \n",
    "    return train"
   ]
  },
  {
   "cell_type": "code",
   "execution_count": 52,
   "id": "cccc7b22",
   "metadata": {},
   "outputs": [
    {
     "data": {
      "text/plain": [
       "0.7097097097097097"
      ]
     },
     "execution_count": 52,
     "metadata": {},
     "output_type": "execute_result"
    }
   ],
   "source": [
    "nltk.classify.accuracy(classifier, test_features)"
   ]
  },
  {
   "cell_type": "code",
   "execution_count": 37,
   "id": "05417ee5",
   "metadata": {},
   "outputs": [],
   "source": [
    "def load_data(file_path):\n",
    "    #file_path에 있는 데이터를 읽어 옴\n",
    "    \n",
    "    train = []\n",
    "    \n",
    "    count = 0\n",
    "    with open(file_path, 'r', encoding='utf-8') as f:\n",
    "        for line in f.readlines():\n",
    "            if count == 2000: break     # 2000개만 가져옴\n",
    "            line = line.strip()\n",
    "            id, doc, label = line.split('\\t')\n",
    "            if label == '1': label = 'pos'\n",
    "            elif label == '0': label = 'neg'\n",
    "            train.append((doc,label))\n",
    "            count += 1\n",
    "            \n",
    "    return train"
   ]
  },
  {
   "cell_type": "code",
   "execution_count": 38,
   "id": "c8119a77",
   "metadata": {},
   "outputs": [
    {
     "data": {
      "text/plain": [
       "0.7288644322161081"
      ]
     },
     "execution_count": 38,
     "metadata": {},
     "output_type": "execute_result"
    }
   ],
   "source": [
    "nltk.classify.accuracy(classifier, test_features)"
   ]
  },
  {
   "cell_type": "code",
   "execution_count": 39,
   "id": "68240b1b",
   "metadata": {},
   "outputs": [],
   "source": [
    "def load_data(file_path):\n",
    "    #file_path에 있는 데이터를 읽어 옴\n",
    "    \n",
    "    train = []\n",
    "    \n",
    "    count = 0\n",
    "    with open(file_path, 'r', encoding='utf-8') as f:\n",
    "        for line in f.readlines():\n",
    "            if count == 3000: break     # 2000개만 가져옴\n",
    "            line = line.strip()\n",
    "            id, doc, label = line.split('\\t')\n",
    "            if label == '1': label = 'pos'\n",
    "            elif label == '0': label = 'neg'\n",
    "            train.append((doc,label))\n",
    "            count += 1\n",
    "            \n",
    "    return train"
   ]
  },
  {
   "cell_type": "code",
   "execution_count": 40,
   "id": "5e2d202d",
   "metadata": {},
   "outputs": [
    {
     "data": {
      "text/plain": [
       "0.6982327442480827"
      ]
     },
     "execution_count": 40,
     "metadata": {},
     "output_type": "execute_result"
    }
   ],
   "source": [
    "train = load_data('ratings_train.txt')\n",
    "train = train[1:]\n",
    "train_features = make_train_features(train, all_words, use_morph)\n",
    "nltk.classify.accuracy(classifier, train_features)"
   ]
  },
  {
   "cell_type": "markdown",
   "id": "5f2b69eb",
   "metadata": {},
   "source": []
  }
 ],
 "metadata": {
  "kernelspec": {
   "display_name": "Python 3 (ipykernel)",
   "language": "python",
   "name": "python3"
  },
  "language_info": {
   "codemirror_mode": {
    "name": "ipython",
    "version": 3
   },
   "file_extension": ".py",
   "mimetype": "text/x-python",
   "name": "python",
   "nbconvert_exporter": "python",
   "pygments_lexer": "ipython3",
   "version": "3.10.4"
  }
 },
 "nbformat": 4,
 "nbformat_minor": 5
}
