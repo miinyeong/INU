{
 "cells": [
  {
   "cell_type": "markdown",
   "id": "9f80ccc3",
   "metadata": {},
   "source": [
    "# 실습2(201701633_전민영)"
   ]
  },
  {
   "cell_type": "code",
   "execution_count": 8,
   "id": "44f4682d",
   "metadata": {},
   "outputs": [
    {
     "name": "stdout",
     "output_type": "stream",
     "text": [
      "{'lastBuildDate': 'Wed, 07 Dec 2022 19:41:09 +0900', 'total': 1, 'start': 1, 'display': 1, 'items': [{'title': '<b>헤어질 결심</b>', 'link': 'https://movie.naver.com/movie/bi/mi/basic.nhn?code=198413', 'image': 'https://ssl.pstatic.net/imgmovie/mdi/mit110/1984/198413_P36_163451.jpg', 'subtitle': 'Decision To Leave', 'pubDate': '2021', 'director': '박찬욱|', 'actor': '박해일|탕웨이|이정현|', 'userRating': '8.68'}]}\n"
     ]
    }
   ],
   "source": [
    "# 네이버 검색 API 예제 - 블로그 검색\n",
    "import json\n",
    "import os\n",
    "import sys\n",
    "import urllib.request\n",
    "client_id = \"AoakXDTB44bQrc9XdCnw\"\n",
    "client_secret = \"PpxHgwXhhS\"\n",
    "encText = urllib.parse.quote(\"헤어질 결심\")\n",
    "url = \"https://openapi.naver.com/v1/search/movie?query=\" + encText + \"&display=100\" # JSON 결과\n",
    "# url = \"https://openapi.naver.com/v1/search/blog.xml?query=\" + encText # XML 결과\n",
    "request = urllib.request.Request(url)\n",
    "request.add_header(\"X-Naver-Client-Id\",client_id)\n",
    "request.add_header(\"X-Naver-Client-Secret\",client_secret)\n",
    "response = urllib.request.urlopen(request)\n",
    "rescode = response.getcode()\n",
    "if(rescode==200):\n",
    "    response_body = response.read()\n",
    "    result = json.loads(response_body.decode('utf-8'))\n",
    "    print(result)\n",
    "else:\n",
    "    print(\"Error Code:\" + rescode)"
   ]
  },
  {
   "cell_type": "code",
   "execution_count": 9,
   "id": "d7cdacfe",
   "metadata": {},
   "outputs": [
    {
     "data": {
      "text/plain": [
       "{'title': '<b>헤어질 결심</b>',\n",
       " 'link': 'https://movie.naver.com/movie/bi/mi/basic.nhn?code=198413',\n",
       " 'image': 'https://ssl.pstatic.net/imgmovie/mdi/mit110/1984/198413_P36_163451.jpg',\n",
       " 'subtitle': 'Decision To Leave',\n",
       " 'pubDate': '2021',\n",
       " 'director': '박찬욱|',\n",
       " 'actor': '박해일|탕웨이|이정현|',\n",
       " 'userRating': '8.68'}"
      ]
     },
     "execution_count": 9,
     "metadata": {},
     "output_type": "execute_result"
    }
   ],
   "source": [
    "result['items'][0]"
   ]
  },
  {
   "cell_type": "code",
   "execution_count": 10,
   "id": "bbde7221",
   "metadata": {},
   "outputs": [
    {
     "data": {
      "text/plain": [
       "'<b>헤어질 결심</b>'"
      ]
     },
     "execution_count": 10,
     "metadata": {},
     "output_type": "execute_result"
    }
   ],
   "source": [
    "result['items'][0]['title']"
   ]
  },
  {
   "cell_type": "code",
   "execution_count": 13,
   "id": "5b2a59b4",
   "metadata": {},
   "outputs": [
    {
     "name": "stdout",
     "output_type": "stream",
     "text": [
      "['<b>헤어질 결심</b>']\n"
     ]
    }
   ],
   "source": [
    "item_list = result['items']\n",
    "\n",
    "title_list, link_list, pubdate_list = [],[],[]\n",
    "\n",
    "for i in range(len(item_list)):\n",
    "    title = item_list[i]['title']\n",
    "    link = item_list[i]['link']\n",
    "    pubdate = item_list[i]['pubDate']\n",
    "    \n",
    "    title_list.append(title)\n",
    "    link_list.append(link)\n",
    "    pubdate_list.append(pubdate)\n",
    "\n",
    "print(title_list[:3])"
   ]
  },
  {
   "cell_type": "code",
   "execution_count": 14,
   "id": "f7dcfbdf",
   "metadata": {},
   "outputs": [
    {
     "data": {
      "text/html": [
       "<div>\n",
       "<style scoped>\n",
       "    .dataframe tbody tr th:only-of-type {\n",
       "        vertical-align: middle;\n",
       "    }\n",
       "\n",
       "    .dataframe tbody tr th {\n",
       "        vertical-align: top;\n",
       "    }\n",
       "\n",
       "    .dataframe thead th {\n",
       "        text-align: right;\n",
       "    }\n",
       "</style>\n",
       "<table border=\"1\" class=\"dataframe\">\n",
       "  <thead>\n",
       "    <tr style=\"text-align: right;\">\n",
       "      <th></th>\n",
       "      <th>제목</th>\n",
       "      <th>링크</th>\n",
       "      <th>날짜</th>\n",
       "    </tr>\n",
       "  </thead>\n",
       "  <tbody>\n",
       "    <tr>\n",
       "      <th>0</th>\n",
       "      <td>&lt;b&gt;헤어질 결심&lt;/b&gt;</td>\n",
       "      <td>https://movie.naver.com/movie/bi/mi/basic.nhn?...</td>\n",
       "      <td>2021</td>\n",
       "    </tr>\n",
       "  </tbody>\n",
       "</table>\n",
       "</div>"
      ],
      "text/plain": [
       "              제목                                                 링크    날짜\n",
       "0  <b>헤어질 결심</b>  https://movie.naver.com/movie/bi/mi/basic.nhn?...  2021"
      ]
     },
     "execution_count": 14,
     "metadata": {},
     "output_type": "execute_result"
    }
   ],
   "source": [
    "import pandas as pd\n",
    "item_result = pd.DataFrame({'제목':title_list, '링크': link_list,'날짜':pubdate_list})\n",
    "item_result.head()"
   ]
  },
  {
   "cell_type": "code",
   "execution_count": 15,
   "id": "b36cc2d4",
   "metadata": {},
   "outputs": [
    {
     "name": "stdout",
     "output_type": "stream",
     "text": [
      "Requirement already satisfied: openpyxl in c:\\users\\sh501\\anaconda3\\envs\\iis\\lib\\site-packages (3.0.10)\n",
      "Requirement already satisfied: et-xmlfile in c:\\users\\sh501\\anaconda3\\envs\\iis\\lib\\site-packages (from openpyxl) (1.1.0)\n",
      "Note: you may need to restart the kernel to use updated packages.\n"
     ]
    }
   ],
   "source": [
    "pip install openpyxl"
   ]
  },
  {
   "cell_type": "code",
   "execution_count": 16,
   "id": "5b46dcca",
   "metadata": {},
   "outputs": [],
   "source": [
    "writer = pd.ExcelWriter(\"search_result_movie.xlsx\")\n",
    "item_result.to_excel(writer)\n",
    "writer.save()"
   ]
  }
 ],
 "metadata": {
  "kernelspec": {
   "display_name": "Python 3 (ipykernel)",
   "language": "python",
   "name": "python3"
  },
  "language_info": {
   "codemirror_mode": {
    "name": "ipython",
    "version": 3
   },
   "file_extension": ".py",
   "mimetype": "text/x-python",
   "name": "python",
   "nbconvert_exporter": "python",
   "pygments_lexer": "ipython3",
   "version": "3.10.4"
  }
 },
 "nbformat": 4,
 "nbformat_minor": 5
}
