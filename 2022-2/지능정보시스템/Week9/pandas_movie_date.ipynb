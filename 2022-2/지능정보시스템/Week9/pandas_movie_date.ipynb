{
 "cells": [
  {
   "cell_type": "markdown",
   "id": "b64a3e7b",
   "metadata": {},
   "source": [
    "## 201701633_전민영 실습"
   ]
  },
  {
   "cell_type": "code",
   "execution_count": 9,
   "id": "6b3ef9e3",
   "metadata": {},
   "outputs": [
    {
     "data": {
      "application/json": {
       "ascii": false,
       "bar_format": null,
       "colour": null,
       "elapsed": 0.013989448547363281,
       "initial": 0,
       "n": 0,
       "ncols": null,
       "nrows": 29,
       "postfix": null,
       "prefix": "",
       "rate": null,
       "total": 200,
       "unit": "it",
       "unit_divisor": 1000,
       "unit_scale": false
      },
      "application/vnd.jupyter.widget-view+json": {
       "model_id": "24689c5f80b444b7920493483b0ff786",
       "version_major": 2,
       "version_minor": 0
      },
      "text/plain": [
       "  0%|          | 0/200 [00:00<?, ?it/s]"
      ]
     },
     "metadata": {},
     "output_type": "display_data"
    },
    {
     "data": {
      "text/html": [
       "<div>\n",
       "<style scoped>\n",
       "    .dataframe tbody tr th:only-of-type {\n",
       "        vertical-align: middle;\n",
       "    }\n",
       "\n",
       "    .dataframe tbody tr th {\n",
       "        vertical-align: top;\n",
       "    }\n",
       "\n",
       "    .dataframe thead th {\n",
       "        text-align: right;\n",
       "    }\n",
       "</style>\n",
       "<table border=\"1\" class=\"dataframe\">\n",
       "  <thead>\n",
       "    <tr style=\"text-align: right;\">\n",
       "      <th></th>\n",
       "      <th>point</th>\n",
       "    </tr>\n",
       "    <tr>\n",
       "      <th>title</th>\n",
       "      <th></th>\n",
       "    </tr>\n",
       "  </thead>\n",
       "  <tbody>\n",
       "    <tr>\n",
       "      <th>당갈</th>\n",
       "      <td>9.56</td>\n",
       "    </tr>\n",
       "    <tr>\n",
       "      <th>아일라</th>\n",
       "      <td>9.52</td>\n",
       "    </tr>\n",
       "    <tr>\n",
       "      <th>덕구</th>\n",
       "      <td>9.49</td>\n",
       "    </tr>\n",
       "    <tr>\n",
       "      <th>허스토리</th>\n",
       "      <td>9.42</td>\n",
       "    </tr>\n",
       "    <tr>\n",
       "      <th>쇼생크 탈출</th>\n",
       "      <td>9.41</td>\n",
       "    </tr>\n",
       "    <tr>\n",
       "      <th>원더</th>\n",
       "      <td>9.41</td>\n",
       "    </tr>\n",
       "    <tr>\n",
       "      <th>터미네이터 2</th>\n",
       "      <td>9.40</td>\n",
       "    </tr>\n",
       "    <tr>\n",
       "      <th>인생은 아름다워</th>\n",
       "      <td>9.39</td>\n",
       "    </tr>\n",
       "    <tr>\n",
       "      <th>매트릭스</th>\n",
       "      <td>9.39</td>\n",
       "    </tr>\n",
       "    <tr>\n",
       "      <th>죽은 시인의 사회</th>\n",
       "      <td>9.38</td>\n",
       "    </tr>\n",
       "  </tbody>\n",
       "</table>\n",
       "</div>"
      ],
      "text/plain": [
       "           point\n",
       "title           \n",
       "당갈          9.56\n",
       "아일라         9.52\n",
       "덕구          9.49\n",
       "허스토리        9.42\n",
       "쇼생크 탈출      9.41\n",
       "원더          9.41\n",
       "터미네이터 2     9.40\n",
       "인생은 아름다워    9.39\n",
       "매트릭스        9.39\n",
       "죽은 시인의 사회   9.38"
      ]
     },
     "execution_count": 9,
     "metadata": {},
     "output_type": "execute_result"
    }
   ],
   "source": [
    "import pandas as pd\n",
    "from urllib.request import urlopen\n",
    "from bs4 import BeautifulSoup\n",
    "from tqdm.notebook import tqdm\n",
    "date_list = pd.date_range('2018-04-02',periods=200,freq='D')\n",
    "\n",
    "movie_title = []\n",
    "movie_point = []\n",
    "movie_date = []\n",
    "for today in tqdm(date_list):\n",
    "    url = \"https://movie.naver.com/movie/sdb/rank/rmovie.naver?sel=pnt&date=\" + today.strftime('%Y%m%d')\n",
    "    html = urlopen(url)\n",
    "    \n",
    "    soup = BeautifulSoup(html.read(), \"html.parser\")\n",
    "    \n",
    "    titles = soup.find_all('div',{'class':'tit5'}) # 50\n",
    "    points = soup.find_all('td',{'class':'point'}) # 50\n",
    "    \n",
    "    titles_text = []\n",
    "    points_text = []\n",
    "    date = []\n",
    "    for t, p in zip(titles, points):\n",
    "        titles_text.append(t.text.strip(' \\n'))\n",
    "        points_text.append(float(p.text))\n",
    "        date.append(today)\n",
    "        \n",
    "    movie_title += titles_text\n",
    "    movie_point += points_text\n",
    "    movie_date += date\n",
    "    \n",
    "frame = pd.DataFrame({'date': movie_date, 'title': movie_title, 'point': movie_point})\n",
    "frame\n",
    "\n",
    "import numpy as np\n",
    "\n",
    "pd.options.display.float_format = '{:.2f}'.format\n",
    "movie_point2 = pd.pivot_table(frame, values=['point'], index=['title'], aggfunc=np.mean)\n",
    "movie_point2_sort = movie_point2.sort_values(by='point',ascending=False)\n",
    "movie_point2_sort.head(10)\n"
   ]
  },
  {
   "cell_type": "markdown",
   "id": "f47a1a57",
   "metadata": {},
   "source": [
    "### 1) 2018-04-02이후 200일의 기간을 설정 한 이유는 제가 군 입대를 2018/04/02에 했고 그 이후 영화를 보러 가기위해 휴가를 나가기까지 약 200일 사이에 영화순위가 어땠는지 궁금해서 기간을 설정했습니다.\n",
    "\n",
    "### 2) 평균 평점이 가장 높았던 영화는 '당갈'이고, 역시 군인 신분이었을 당시 개봉한 영화 다 보니 평점 상위 10개의 영화 중 아는 영화가 거의 없습니다."
   ]
  }
 ],
 "metadata": {
  "kernelspec": {
   "display_name": "Python 3 (ipykernel)",
   "language": "python",
   "name": "python3"
  },
  "language_info": {
   "codemirror_mode": {
    "name": "ipython",
    "version": 3
   },
   "file_extension": ".py",
   "mimetype": "text/x-python",
   "name": "python",
   "nbconvert_exporter": "python",
   "pygments_lexer": "ipython3",
   "version": "3.10.4"
  }
 },
 "nbformat": 4,
 "nbformat_minor": 5
}
