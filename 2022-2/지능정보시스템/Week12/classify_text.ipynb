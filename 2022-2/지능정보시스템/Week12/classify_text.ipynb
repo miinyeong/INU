{
 "cells": [
  {
   "cell_type": "markdown",
   "id": "1dad2ce9",
   "metadata": {},
   "source": [
    "# 텍스트 분류하기1,2"
   ]
  },
  {
   "cell_type": "code",
   "execution_count": 1,
   "id": "d3873b8f",
   "metadata": {},
   "outputs": [],
   "source": [
    "# 필요한 모듈 불러오기 # 에러나면 pip install nltk 입력\n",
    "from nltk.tokenize import word_tokenize\n",
    "import nltk"
   ]
  },
  {
   "cell_type": "code",
   "execution_count": 2,
   "id": "fecf0bf7",
   "metadata": {},
   "outputs": [
    {
     "name": "stderr",
     "output_type": "stream",
     "text": [
      "[nltk_data] Downloading package punkt to\n",
      "[nltk_data]     C:\\Users\\SH501\\AppData\\Roaming\\nltk_data...\n",
      "[nltk_data]   Package punkt is already up-to-date!\n"
     ]
    },
    {
     "data": {
      "text/plain": [
       "True"
      ]
     },
     "execution_count": 2,
     "metadata": {},
     "output_type": "execute_result"
    }
   ],
   "source": [
    "nltk.download('punkt')"
   ]
  },
  {
   "cell_type": "code",
   "execution_count": 13,
   "id": "8f6693ad",
   "metadata": {},
   "outputs": [
    {
     "data": {
      "text/plain": [
       "[('I like you', 'pos'),\n",
       " ('I hate you', 'neg'),\n",
       " ('I enjoyed it', 'pos'),\n",
       " ('I hate it', 'neg')]"
      ]
     },
     "execution_count": 13,
     "metadata": {},
     "output_type": "execute_result"
    }
   ],
   "source": [
    "train = [('I like you','pos'),\n",
    "        ('I hate you','neg'),\n",
    "        ('I enjoyed it','pos'),\n",
    "        ('I hate it','neg')]\n",
    "train"
   ]
  },
  {
   "cell_type": "code",
   "execution_count": 14,
   "id": "769bfd1b",
   "metadata": {},
   "outputs": [
    {
     "data": {
      "text/plain": [
       "{'I', 'enjoyed', 'hate', 'it', 'like', 'you'}"
      ]
     },
     "execution_count": 14,
     "metadata": {},
     "output_type": "execute_result"
    }
   ],
   "source": [
    "# train에 있는 문장들의 단어 set 만들기\n",
    "# set()을 이용하여 집합으로 만들기\n",
    "all_words = set()\n",
    "\n",
    "for tup in train:\n",
    "    sent, label = tup[0], tup[1]  #ex) sent = 'l like you', label = 'pos'\n",
    "    words = word_tokenize(sent)\n",
    "    for word in words:\n",
    "        all_words.add(word)\n",
    "\n",
    "all_words"
   ]
  },
  {
   "cell_type": "markdown",
   "id": "fc1fd3de",
   "metadata": {},
   "source": [
    "## 각 문장을 단어가 있는지 없는지 여부로 표현"
   ]
  },
  {
   "cell_type": "code",
   "execution_count": 15,
   "id": "616d4104",
   "metadata": {},
   "outputs": [
    {
     "name": "stdout",
     "output_type": "stream",
     "text": [
      "({'hate': False, 'it': False, 'I': True, 'like': True, 'you': True, 'enjoyed': False}, 'pos')\n",
      "({'hate': True, 'it': False, 'I': True, 'like': False, 'you': True, 'enjoyed': False}, 'neg')\n",
      "({'hate': False, 'it': True, 'I': True, 'like': False, 'you': False, 'enjoyed': True}, 'pos')\n",
      "({'hate': True, 'it': True, 'I': True, 'like': False, 'you': False, 'enjoyed': False}, 'neg')\n"
     ]
    }
   ],
   "source": [
    "\n",
    "\n",
    "train_features = []\n",
    "\n",
    "for tup in train:\n",
    "    sent, label = tup[0], tup[1]\n",
    "    words = word_tokenize(sent)\n",
    "    tmp = dict()\n",
    "    for set_word in all_words:\n",
    "        if set_word in words:\n",
    "            tmp[set_word] = True\n",
    "        else:\n",
    "            tmp[set_word] = False\n",
    "    sent_tup = (tmp, label)\n",
    "    train_features.append(sent_tup)\n",
    "    \n",
    "#[('I like you', 'pos'), ('l hate you', 'neg'), ('I enjoyed it', 'pos'), ('I hate it', 'neg')]\n",
    "print(train_features[0])\n",
    "print(train_features[1])\n",
    "print(train_features[2])\n",
    "print(train_features[3])"
   ]
  },
  {
   "cell_type": "markdown",
   "id": "699ffe54",
   "metadata": {},
   "source": [
    "## 간략하게 작성하기1"
   ]
  },
  {
   "cell_type": "code",
   "execution_count": 16,
   "id": "89257eaa",
   "metadata": {},
   "outputs": [
    {
     "name": "stdout",
     "output_type": "stream",
     "text": [
      "({'hate': False, 'it': False, 'I': True, 'like': True, 'you': True, 'enjoyed': False}, 'pos')\n",
      "({'hate': True, 'it': False, 'I': True, 'like': False, 'you': True, 'enjoyed': False}, 'neg')\n",
      "({'hate': False, 'it': True, 'I': True, 'like': False, 'you': False, 'enjoyed': True}, 'pos')\n",
      "({'hate': True, 'it': True, 'I': True, 'like': False, 'you': False, 'enjoyed': False}, 'neg')\n"
     ]
    }
   ],
   "source": [
    "train_features = []\n",
    "\n",
    "for tup in train:\n",
    "    sent, label = tup[0], tup[1]\n",
    "    words = word_tokenize(sent)\n",
    "    tmp = dict()\n",
    "    for set_word in all_words:\n",
    "        tmp[set_word] = (set_word in words) # set_word가 words에 있는지 여부 판별\n",
    "    sent_tup = (tmp, label)\n",
    "    train_features.append(sent_tup)\n",
    "    \n",
    "#[('I like you', 'pos'), ('l hate you', 'neg'), ('I enjoyed it', 'pos'), ('I hate it', 'neg')]\n",
    "print(train_features[0])\n",
    "print(train_features[1])\n",
    "print(train_features[2])\n",
    "print(train_features[3])"
   ]
  },
  {
   "cell_type": "markdown",
   "id": "e6ffcdb4",
   "metadata": {},
   "source": [
    "## 간략하게 작성하기2"
   ]
  },
  {
   "cell_type": "code",
   "execution_count": 19,
   "id": "0e2a49dd",
   "metadata": {},
   "outputs": [
    {
     "name": "stdout",
     "output_type": "stream",
     "text": [
      "({'hate': False, 'it': False, 'I': True, 'like': True, 'you': True, 'enjoyed': False}, 'pos')\n",
      "({'hate': True, 'it': False, 'I': True, 'like': False, 'you': True, 'enjoyed': False}, 'neg')\n",
      "({'hate': False, 'it': True, 'I': True, 'like': False, 'you': False, 'enjoyed': True}, 'pos')\n",
      "({'hate': True, 'it': True, 'I': True, 'like': False, 'you': False, 'enjoyed': False}, 'neg')\n"
     ]
    }
   ],
   "source": [
    "train_features = []\n",
    "\n",
    "for tup in train:\n",
    "    sent, label = tup[0], tup[1]\n",
    "    words = word_tokenize(sent)\n",
    "    tmp = {set_word: (set_word in words) for set_word in all_words} # set_word가 words에 있는지 여부 판별\n",
    "    sent_tup = (tmp, label)\n",
    "    train_features.append(sent_tup)\n",
    "    \n",
    "#[('I like you', 'pos'), ('l hate you', 'neg'), ('I enjoyed it', 'pos'), ('I hate it', 'neg')]\n",
    "print(train_features[0])\n",
    "print(train_features[1])\n",
    "print(train_features[2])\n",
    "print(train_features[3])"
   ]
  },
  {
   "cell_type": "markdown",
   "id": "e027cb93",
   "metadata": {},
   "source": [
    "## 단어별 확률 계산"
   ]
  },
  {
   "cell_type": "code",
   "execution_count": 20,
   "id": "7abad71a",
   "metadata": {},
   "outputs": [
    {
     "name": "stdout",
     "output_type": "stream",
     "text": [
      "Most Informative Features\n",
      "                 enjoyed = False             neg : pos    =      1.7 : 1.0\n",
      "                    like = False             neg : pos    =      1.7 : 1.0\n",
      "                       I = True              neg : pos    =      1.0 : 1.0\n",
      "                      it = False             neg : pos    =      1.0 : 1.0\n",
      "                      it = True              neg : pos    =      1.0 : 1.0\n",
      "                     you = False             neg : pos    =      1.0 : 1.0\n"
     ]
    }
   ],
   "source": [
    "classifier = nltk.NaiveBayesClassifier.train(train_features)\n",
    "classifier.show_most_informative_features()\n",
    "# 결과 해석: 'like'라는 단어가 문장에 없으면 neg:pos = 1.7:1로 neg로 분류될 확률이 높다."
   ]
  },
  {
   "cell_type": "markdown",
   "id": "e6c27a4a",
   "metadata": {},
   "source": [
    "## 테스트하기"
   ]
  },
  {
   "cell_type": "code",
   "execution_count": 23,
   "id": "36dd853f",
   "metadata": {},
   "outputs": [
    {
     "name": "stdout",
     "output_type": "stream",
     "text": [
      "{'hate': False, 'it': True, 'I': False, 'like': True, 'you': False, 'enjoyed': False}\n"
     ]
    }
   ],
   "source": [
    "test_sent = 'l like it'\n",
    "\n",
    "words = word_tokenize(test_sent)\n",
    "test_feature = {set_word: (set_word in words) for set_word in all_words}\n",
    "\n",
    "print(test_feature)"
   ]
  },
  {
   "cell_type": "code",
   "execution_count": 25,
   "id": "a0620d18",
   "metadata": {},
   "outputs": [
    {
     "data": {
      "text/plain": [
       "{'hate': False,\n",
       " 'it': True,\n",
       " 'I': False,\n",
       " 'like': True,\n",
       " 'you': False,\n",
       " 'enjoyed': False}"
      ]
     },
     "execution_count": 25,
     "metadata": {},
     "output_type": "execute_result"
    }
   ],
   "source": [
    "test_feature"
   ]
  },
  {
   "cell_type": "code",
   "execution_count": 24,
   "id": "a4161662",
   "metadata": {},
   "outputs": [
    {
     "data": {
      "text/plain": [
       "'pos'"
      ]
     },
     "execution_count": 24,
     "metadata": {},
     "output_type": "execute_result"
    }
   ],
   "source": [
    "classifier.classify(test_feature)"
   ]
  },
  {
   "cell_type": "code",
   "execution_count": null,
   "id": "d30fe0ff",
   "metadata": {},
   "outputs": [],
   "source": []
  }
 ],
 "metadata": {
  "kernelspec": {
   "display_name": "Python 3 (ipykernel)",
   "language": "python",
   "name": "python3"
  },
  "language_info": {
   "codemirror_mode": {
    "name": "ipython",
    "version": 3
   },
   "file_extension": ".py",
   "mimetype": "text/x-python",
   "name": "python",
   "nbconvert_exporter": "python",
   "pygments_lexer": "ipython3",
   "version": "3.9.12"
  }
 },
 "nbformat": 4,
 "nbformat_minor": 5
}
