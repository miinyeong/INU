{
 "cells": [
  {
   "cell_type": "markdown",
   "id": "5f3e79b3",
   "metadata": {},
   "source": [
    "# BeautifulSoup"
   ]
  },
  {
   "cell_type": "code",
   "execution_count": 2,
   "id": "dccde169",
   "metadata": {},
   "outputs": [
    {
     "name": "stdout",
     "output_type": "stream",
     "text": [
      "<class 'bs4.BeautifulSoup'>\n",
      "<html><div>hello</div></html>\n",
      "<div>hello</div>\n"
     ]
    }
   ],
   "source": [
    "from bs4 import BeautifulSoup\n",
    "\n",
    "html_str = \"<html><div>hello</div></html>\"\n",
    "soup = BeautifulSoup(html_str, \"html.parser\") #Beautiful(<받은텍스트>,<텍스트를 파싱할 파서>)\n",
    "\n",
    "print(type(soup))\n",
    "print(soup)\n",
    "print(soup.find(\"div\")) # find를 이용하여 파싱된 데이터 중 필요한 부분만 뽑아내기"
   ]
  },
  {
   "cell_type": "code",
   "execution_count": 3,
   "id": "b710f028",
   "metadata": {},
   "outputs": [
    {
     "name": "stdout",
     "output_type": "stream",
     "text": [
      "<ul>\n",
      "<li>line1</li>\n",
      "<li>line2</li>\n",
      "<li>line3</li>\n",
      "</ul>\n"
     ]
    }
   ],
   "source": [
    "from bs4 import BeautifulSoup\n",
    "\n",
    "#여러 줄의 문자열을 사용하기 위해 문자열의 시작과 끝 줄에 \"\"\",\"\"\" 사용\n",
    "#  ol=ordered list (순서가있는 목록 태그)   ul=unordered list (순서가 없는 목록 태그 )\n",
    "html_str =\"\"\"\n",
    "<html>\n",
    "    <body>\n",
    "        <ul>\n",
    "            <li>line1</li>\n",
    "            <li>line2</li>\n",
    "            <li>line3</li>\n",
    "        </ul>\n",
    "    </body>\n",
    "</html>\n",
    "\"\"\"\n",
    "soup = BeautifulSoup(html_str, \"html.parser\")\n",
    "\n",
    "ul = soup.find(\"ul\")\n",
    "print(ul)"
   ]
  },
  {
   "cell_type": "code",
   "execution_count": 4,
   "id": "739d9dd6",
   "metadata": {},
   "outputs": [
    {
     "name": "stdout",
     "output_type": "stream",
     "text": [
      "<li>line1</li>\n"
     ]
    }
   ],
   "source": [
    "from bs4 import BeautifulSoup\n",
    "\n",
    "#여러 줄의 문자열을 사용하기 위해 문자열의 시작과 끝 줄에 \"\"\",\"\"\" 사용\n",
    "\n",
    "html_str =\"\"\"\n",
    "<html>\n",
    "    <body>\n",
    "        <ul>\n",
    "            <li>line1</li>\n",
    "            <li>line2</li>\n",
    "            <li>line3</li>\n",
    "        </ul>\n",
    "    </body>\n",
    "</html>\n",
    "\"\"\"\n",
    "soup = BeautifulSoup(html_str, \"html.parser\")\n",
    "\n",
    "ul = soup.find(\"ul\")\n",
    "li = ul.find(\"li\") #li태그 중 첫번째 줄 추출\n",
    "print(li)"
   ]
  },
  {
   "cell_type": "code",
   "execution_count": 5,
   "id": "b9c7a40e",
   "metadata": {},
   "outputs": [
    {
     "name": "stdout",
     "output_type": "stream",
     "text": [
      "line1\n"
     ]
    }
   ],
   "source": [
    "print(li.text)"
   ]
  },
  {
   "cell_type": "code",
   "execution_count": 8,
   "id": "7555f0fa",
   "metadata": {},
   "outputs": [
    {
     "name": "stdout",
     "output_type": "stream",
     "text": [
      "[<li>line1</li>, <li>line2</li>, <li>line3</li>]\n",
      "<li>line3</li>\n",
      "line3\n"
     ]
    }
   ],
   "source": [
    "from bs4 import BeautifulSoup\n",
    "\n",
    "#여러 줄의 문자열을 사용하기 위해 문자열의 시작과 끝 줄에 \"\"\",\"\"\" 사용\n",
    "\n",
    "html_str =\"\"\"\n",
    "<html>\n",
    "    <body>\n",
    "        <ul>\n",
    "            <li>line1</li>\n",
    "            <li>line2</li>\n",
    "            <li>line3</li>\n",
    "        </ul>\n",
    "    </body>\n",
    "</html>\n",
    "\"\"\"\n",
    "soup = BeautifulSoup(html_str, \"html.parser\")\n",
    "\n",
    "ul = soup.find(\"ul\")\n",
    "li = ul.find_all(\"li\") #li태그 모든 요소를 list형태로 추출\n",
    "print(li)\n",
    "print(li[2]) # 인덱스로 리스트 데이터 line3에 접근\n",
    "print(li[2].text) # 태그 안에 있는 텍스트만 출력"
   ]
  },
  {
   "cell_type": "markdown",
   "id": "a37ed68e",
   "metadata": {},
   "source": [
    "# class 속성 이용하기"
   ]
  },
  {
   "cell_type": "code",
   "execution_count": 9,
   "id": "5de42172",
   "metadata": {},
   "outputs": [
    {
     "name": "stdout",
     "output_type": "stream",
     "text": [
      "<ul class=\"class1\">\n",
      "<li>line1</li>\n",
      "<li>line2</li>\n",
      "<li>line3</li>\n",
      "</ul>\n"
     ]
    }
   ],
   "source": [
    "from bs4 import BeautifulSoup\n",
    "\n",
    "#여러 줄의 문자열을 사용하기 위해 문자열의 시작과 끝 줄에 \"\"\",\"\"\" 사용\n",
    "\n",
    "html_str =\"\"\"\n",
    "<html>\n",
    "    <body>\n",
    "        <ul class=\"class1\">\n",
    "            <li>line1</li>\n",
    "            <li>line2</li>\n",
    "            <li>line3</li>\n",
    "        </ul>\n",
    "        <ul class=\"class2\">\n",
    "            <li>line4</li>\n",
    "            <li>line5</li>\n",
    "            <li>line6</li>\n",
    "        </ul>\n",
    "    </body>\n",
    "</html>\n",
    "\"\"\"\n",
    "soup = BeautifulSoup(html_str, \"html.parser\")\n",
    "\n",
    "ul = soup.find(\"ul\")\n",
    "print(ul)\n"
   ]
  },
  {
   "cell_type": "code",
   "execution_count": 10,
   "id": "fffeaa20",
   "metadata": {},
   "outputs": [
    {
     "name": "stdout",
     "output_type": "stream",
     "text": [
      "<ul class=\"class2\">\n",
      "<li>line4</li>\n",
      "<li>line5</li>\n",
      "<li>line6</li>\n",
      "</ul>\n"
     ]
    }
   ],
   "source": [
    "from bs4 import BeautifulSoup\n",
    "\n",
    "#여러 줄의 문자열을 사용하기 위해 문자열의 시작과 끝 줄에 \"\"\",\"\"\" 사용\n",
    "\n",
    "html_str =\"\"\"\n",
    "<html>\n",
    "    <body>\n",
    "        <ul class=\"class1\">\n",
    "            <li>line1</li>\n",
    "            <li>line2</li>\n",
    "            <li>line3</li>\n",
    "        </ul>\n",
    "        <ul class=\"class2\">\n",
    "            <li>line4</li>\n",
    "            <li>line5</li>\n",
    "            <li>line6</li>\n",
    "        </ul>\n",
    "    </body>\n",
    "</html>\n",
    "\"\"\"\n",
    "soup = BeautifulSoup(html_str, \"html.parser\")\n",
    "\n",
    "ul = soup.find(\"ul\",{\"class\":\"class2\"})\n",
    "print(ul)\n"
   ]
  },
  {
   "cell_type": "markdown",
   "id": "7cda1ee4",
   "metadata": {},
   "source": [
    "# 속성값 추출하기\n",
    "<a> 태그 값 뽑아내기"
   ]
  },
  {
   "cell_type": "code",
   "execution_count": 13,
   "id": "a81b236b",
   "metadata": {},
   "outputs": [
    {
     "name": "stdout",
     "output_type": "stream",
     "text": [
      "<a href=\"https://www.naver.com\">네이버</a>\n"
     ]
    }
   ],
   "source": [
    "from bs4 import BeautifulSoup\n",
    "\n",
    "#여러 줄의 문자열을 사용하기 위해 문자열의 시작과 끝 줄에 \"\"\",\"\"\" 사용\n",
    "\n",
    "html_str =\"\"\"\n",
    "<html>\n",
    "    <body>\n",
    "        <ul class=\"search\">\n",
    "            <li>\n",
    "                <a href=\"https://www.naver.com\">네이버</a>\n",
    "            </li>\n",
    "            <li>\n",
    "                <a href=\"https://www.google.com\">구글</a>\n",
    "            </li>\n",
    "        </ul>\n",
    "        <ul class=\"sns\">\n",
    "            <li>\n",
    "                <a href=\"https://www.facebook.com\">페이스북</a>\n",
    "            </li>\n",
    "            <li>\n",
    "                <a href=\"https://www.instagram.com\">인스타그램</a>\n",
    "            </li>\n",
    "        </ul>\n",
    "    </body>\n",
    "</html>\n",
    "\"\"\"\n",
    "soup = BeautifulSoup(html_str, \"html.parser\")\n",
    "\n",
    "a = soup.find(\"a\")\n",
    "print(a)\n"
   ]
  },
  {
   "cell_type": "markdown",
   "id": "9b4df1db",
   "metadata": {},
   "source": [
    "###  <a>태그의 href 속성의 속성값을 뽑아내어 링크를 추출"
   ]
  },
  {
   "cell_type": "code",
   "execution_count": 14,
   "id": "da8891df",
   "metadata": {},
   "outputs": [
    {
     "name": "stdout",
     "output_type": "stream",
     "text": [
      "<a href=\"https://www.naver.com\">네이버</a>\n",
      "https://www.naver.com\n"
     ]
    }
   ],
   "source": [
    "from bs4 import BeautifulSoup\n",
    "\n",
    "#여러 줄의 문자열을 사용하기 위해 문자열의 시작과 끝 줄에 \"\"\",\"\"\" 사용\n",
    "\n",
    "html_str =\"\"\"\n",
    "<html>\n",
    "    <body>\n",
    "        <ul class=\"search\">\n",
    "            <li>\n",
    "                <a href=\"https://www.naver.com\">네이버</a>\n",
    "            </li>\n",
    "            <li>\n",
    "                <a href=\"https://www.google.com\">구글</a>\n",
    "            </li>\n",
    "        </ul>\n",
    "        <ul class=\"sns\">\n",
    "            <li>\n",
    "                <a href=\"https://www.facebook.com\">페이스북</a>\n",
    "            </li>\n",
    "            <li>\n",
    "                <a href=\"https://www.instagram.com\">인스타그램</a>\n",
    "            </li>\n",
    "        </ul>\n",
    "    </body>\n",
    "</html>\n",
    "\"\"\"\n",
    "soup = BeautifulSoup(html_str, \"html.parser\")\n",
    "\n",
    "a = soup.find(\"a\")\n",
    "print(a)\n",
    "print(a['href'])\n"
   ]
  },
  {
   "cell_type": "code",
   "execution_count": 3,
   "id": "1a261101",
   "metadata": {},
   "outputs": [
    {
     "name": "stdout",
     "output_type": "stream",
     "text": [
      "https://www.instagram.com\n"
     ]
    }
   ],
   "source": [
    "from bs4 import BeautifulSoup\n",
    "\n",
    "#여러 줄의 문자열을 사용하기 위해 문자열의 시작과 끝 줄에 \"\"\",\"\"\" 사용\n",
    "\n",
    "html_str =\"\"\"\n",
    "<html>\n",
    "    <body>\n",
    "        <ul class=\"search\">\n",
    "            <li>\n",
    "                <a href=\"https://www.naver.com\">네이버</a>\n",
    "            </li>\n",
    "            <li>\n",
    "                <a href=\"https://www.google.com\">구글</a>\n",
    "            </li>\n",
    "        </ul>\n",
    "        <ul class=\"sns\">\n",
    "            <li>\n",
    "                <a href=\"https://www.facebook.com\">페이스북</a>\n",
    "            </li>\n",
    "            <li>\n",
    "                <a href=\"https://www.instagram.com\">인스타그램</a>\n",
    "            </li>\n",
    "        </ul>\n",
    "    </body>\n",
    "</html>\n",
    "\"\"\"\n",
    "soup = BeautifulSoup(html_str,\"html.parser\")\n",
    "ul = soup.find(\"ul\",{\"class\":\"sns\"})\n",
    "li = ul.find_all(\"li\")\n",
    "a = li[1].find(\"a\")\n",
    "print(a['href'])\n"
   ]
  }
 ],
 "metadata": {
  "kernelspec": {
   "display_name": "Python 3 (ipykernel)",
   "language": "python",
   "name": "python3"
  },
  "language_info": {
   "codemirror_mode": {
    "name": "ipython",
    "version": 3
   },
   "file_extension": ".py",
   "mimetype": "text/x-python",
   "name": "python",
   "nbconvert_exporter": "python",
   "pygments_lexer": "ipython3",
   "version": "3.9.12"
  }
 },
 "nbformat": 4,
 "nbformat_minor": 5
}
