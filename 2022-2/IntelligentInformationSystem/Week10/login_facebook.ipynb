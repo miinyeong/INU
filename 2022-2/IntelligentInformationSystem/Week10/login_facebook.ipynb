{
 "cells": [
  {
   "cell_type": "markdown",
   "id": "0a00d7ee",
   "metadata": {},
   "source": [
    "## 실습1 (201701633_전민영)"
   ]
  },
  {
   "cell_type": "code",
   "execution_count": 14,
   "id": "f2d34460",
   "metadata": {},
   "outputs": [
    {
     "name": "stderr",
     "output_type": "stream",
     "text": [
      "C:\\Users\\SH501\\AppData\\Local\\Temp\\ipykernel_2752\\554485028.py:2: DeprecationWarning: executable_path has been deprecated, please pass in a Service object\n",
      "  driver = webdriver.Chrome(r\"C:\\Users\\SH501\\Downloads\\chromedriver_win32\\chromedriver.exe\")\n"
     ]
    }
   ],
   "source": [
    "from selenium import webdriver\n",
    "driver = webdriver.Chrome(r\"C:\\Users\\SH501\\Downloads\\chromedriver_win32\\chromedriver.exe\")"
   ]
  },
  {
   "cell_type": "code",
   "execution_count": 15,
   "id": "77bffe2c",
   "metadata": {},
   "outputs": [],
   "source": [
    "driver.get(\"https://ko-kr.facebook.com/\")"
   ]
  },
  {
   "cell_type": "code",
   "execution_count": 16,
   "id": "1c149dbd",
   "metadata": {},
   "outputs": [],
   "source": [
    "login_id = driver.find_element(\"id\",\"email\")\n",
    "login_id.clear()\n",
    "login_id.send_keys(\"facebook_id\")"
   ]
  },
  {
   "cell_type": "code",
   "execution_count": 17,
   "id": "0ec812f7",
   "metadata": {},
   "outputs": [],
   "source": [
    "login_pw = driver.find_element(\"id\",\"pass\") \n",
    "login_pw.clear()\n",
    "login_pw.send_keys(\"facebook_pw\")"
   ]
  },
  {
   "cell_type": "code",
   "execution_count": 19,
   "id": "58aa183f",
   "metadata": {},
   "outputs": [],
   "source": [
    "login_button = '//*[@id=\"u_0_5_Jd\"]'\n",
    "driver.find_element(\"full.xpath\", login_button).click()"
   ]
  },
  {
   "cell_type": "markdown",
   "id": "9a0bc4d3",
   "metadata": {},
   "source": [
    "![image](./1.png)"
   ]
  },
  {
   "cell_type": "markdown",
   "id": "5dc3182d",
   "metadata": {},
   "source": [
    "![image](./2.png)"
   ]
  }
 ],
 "metadata": {
  "kernelspec": {
   "display_name": "Python 3 (ipykernel)",
   "language": "python",
   "name": "python3"
  },
  "language_info": {
   "codemirror_mode": {
    "name": "ipython",
    "version": 3
   },
   "file_extension": ".py",
   "mimetype": "text/x-python",
   "name": "python",
   "nbconvert_exporter": "python",
   "pygments_lexer": "ipython3",
   "version": "3.10.4"
  }
 },
 "nbformat": 4,
 "nbformat_minor": 5
}
