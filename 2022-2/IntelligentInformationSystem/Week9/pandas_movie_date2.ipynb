{
 "cells": [
  {
   "cell_type": "markdown",
   "id": "ad8252f8",
   "metadata": {},
   "source": [
    "## 201701633 전민영  실습2"
   ]
  },
  {
   "cell_type": "code",
   "execution_count": 4,
   "id": "337432e1",
   "metadata": {},
   "outputs": [],
   "source": [
    "import pandas as pd\n",
    "from urllib.request import urlopen\n",
    "from bs4 import BeautifulSoup\n",
    "date_list = pd.date_range('2020-07-01',periods=100,freq='D')\n",
    "\n",
    "movie_title = []\n",
    "movie_point = []\n",
    "movie_date = []\n",
    "for today in date_list:\n",
    "    url = \"https://movie.naver.com/movie/sdb/rank/rmovie.naver?sel=pnt&date=\" + today.strftime('%Y%m%d')\n",
    "    html = urlopen(url)\n",
    "    \n",
    "    soup = BeautifulSoup(html.read(), \"html.parser\")\n",
    "    \n",
    "    titles = soup.find_all('div',{'class':'tit5'}) # 50\n",
    "    points = soup.find_all('td',{'class':'point'}) # 50\n",
    "    \n",
    "    titles_text = []\n",
    "    points_text = []\n",
    "    date = []\n",
    "    for t, p in zip(titles, points):\n",
    "        titles_text.append(t.text.strip(' \\n'))\n",
    "        points_text.append(float(p.text))\n",
    "        date.append(today)\n",
    "        \n",
    "    movie_title += titles_text\n",
    "    movie_point += points_text\n",
    "    movie_date += date"
   ]
  },
  {
   "cell_type": "code",
   "execution_count": 5,
   "id": "c95f1747",
   "metadata": {},
   "outputs": [
    {
     "data": {
      "text/html": [
       "<div>\n",
       "<style scoped>\n",
       "    .dataframe tbody tr th:only-of-type {\n",
       "        vertical-align: middle;\n",
       "    }\n",
       "\n",
       "    .dataframe tbody tr th {\n",
       "        vertical-align: top;\n",
       "    }\n",
       "\n",
       "    .dataframe thead th {\n",
       "        text-align: right;\n",
       "    }\n",
       "</style>\n",
       "<table border=\"1\" class=\"dataframe\">\n",
       "  <thead>\n",
       "    <tr style=\"text-align: right;\">\n",
       "      <th></th>\n",
       "      <th>date</th>\n",
       "      <th>title</th>\n",
       "      <th>point</th>\n",
       "    </tr>\n",
       "  </thead>\n",
       "  <tbody>\n",
       "    <tr>\n",
       "      <th>0</th>\n",
       "      <td>2020-07-01</td>\n",
       "      <td>그린 북</td>\n",
       "      <td>9.59</td>\n",
       "    </tr>\n",
       "    <tr>\n",
       "      <th>1</th>\n",
       "      <td>2020-07-01</td>\n",
       "      <td>가버나움</td>\n",
       "      <td>9.59</td>\n",
       "    </tr>\n",
       "    <tr>\n",
       "      <th>2</th>\n",
       "      <td>2020-07-01</td>\n",
       "      <td>베일리 어게인</td>\n",
       "      <td>9.53</td>\n",
       "    </tr>\n",
       "    <tr>\n",
       "      <th>3</th>\n",
       "      <td>2020-07-01</td>\n",
       "      <td>원더</td>\n",
       "      <td>9.49</td>\n",
       "    </tr>\n",
       "    <tr>\n",
       "      <th>4</th>\n",
       "      <td>2020-07-01</td>\n",
       "      <td>포드 V 페라리</td>\n",
       "      <td>9.49</td>\n",
       "    </tr>\n",
       "    <tr>\n",
       "      <th>...</th>\n",
       "      <td>...</td>\n",
       "      <td>...</td>\n",
       "      <td>...</td>\n",
       "    </tr>\n",
       "    <tr>\n",
       "      <th>4995</th>\n",
       "      <td>2020-10-08</td>\n",
       "      <td>쉰들러 리스트</td>\n",
       "      <td>9.36</td>\n",
       "    </tr>\n",
       "    <tr>\n",
       "      <th>4996</th>\n",
       "      <td>2020-10-08</td>\n",
       "      <td>클레멘타인</td>\n",
       "      <td>9.36</td>\n",
       "    </tr>\n",
       "    <tr>\n",
       "      <th>4997</th>\n",
       "      <td>2020-10-08</td>\n",
       "      <td>안녕 베일리</td>\n",
       "      <td>9.36</td>\n",
       "    </tr>\n",
       "    <tr>\n",
       "      <th>4998</th>\n",
       "      <td>2020-10-08</td>\n",
       "      <td>서유기 2 - 선리기연</td>\n",
       "      <td>9.36</td>\n",
       "    </tr>\n",
       "    <tr>\n",
       "      <th>4999</th>\n",
       "      <td>2020-10-08</td>\n",
       "      <td>여인의 향기</td>\n",
       "      <td>9.36</td>\n",
       "    </tr>\n",
       "  </tbody>\n",
       "</table>\n",
       "<p>5000 rows × 3 columns</p>\n",
       "</div>"
      ],
      "text/plain": [
       "           date         title  point\n",
       "0    2020-07-01          그린 북   9.59\n",
       "1    2020-07-01          가버나움   9.59\n",
       "2    2020-07-01       베일리 어게인   9.53\n",
       "3    2020-07-01            원더   9.49\n",
       "4    2020-07-01      포드 V 페라리   9.49\n",
       "...         ...           ...    ...\n",
       "4995 2020-10-08       쉰들러 리스트   9.36\n",
       "4996 2020-10-08         클레멘타인   9.36\n",
       "4997 2020-10-08        안녕 베일리   9.36\n",
       "4998 2020-10-08  서유기 2 - 선리기연   9.36\n",
       "4999 2020-10-08        여인의 향기   9.36\n",
       "\n",
       "[5000 rows x 3 columns]"
      ]
     },
     "execution_count": 5,
     "metadata": {},
     "output_type": "execute_result"
    }
   ],
   "source": [
    "frame = pd.DataFrame({'date': movie_date, 'title': movie_title, 'point': movie_point})\n",
    "frame"
   ]
  },
  {
   "cell_type": "code",
   "execution_count": 3,
   "id": "a481ebc9",
   "metadata": {},
   "outputs": [
    {
     "name": "stdout",
     "output_type": "stream",
     "text": [
      "Requirement already satisfied: matplotlib in c:\\users\\sh501\\anaconda3\\envs\\iis\\lib\\site-packages (3.6.1)\n",
      "Requirement already satisfied: numpy>=1.19 in c:\\users\\sh501\\anaconda3\\envs\\iis\\lib\\site-packages (from matplotlib) (1.22.3)\n",
      "Requirement already satisfied: contourpy>=1.0.1 in c:\\users\\sh501\\anaconda3\\envs\\iis\\lib\\site-packages (from matplotlib) (1.0.6)\n",
      "Requirement already satisfied: fonttools>=4.22.0 in c:\\users\\sh501\\anaconda3\\envs\\iis\\lib\\site-packages (from matplotlib) (4.38.0)\n",
      "Requirement already satisfied: packaging>=20.0 in c:\\users\\sh501\\anaconda3\\envs\\iis\\lib\\site-packages (from matplotlib) (21.3)\n",
      "Requirement already satisfied: cycler>=0.10 in c:\\users\\sh501\\anaconda3\\envs\\iis\\lib\\site-packages (from matplotlib) (0.11.0)\n",
      "Requirement already satisfied: pillow>=6.2.0 in c:\\users\\sh501\\anaconda3\\envs\\iis\\lib\\site-packages (from matplotlib) (9.3.0)\n",
      "Requirement already satisfied: python-dateutil>=2.7 in c:\\users\\sh501\\anaconda3\\envs\\iis\\lib\\site-packages (from matplotlib) (2.8.2)\n",
      "Requirement already satisfied: pyparsing>=2.2.1 in c:\\users\\sh501\\anaconda3\\envs\\iis\\lib\\site-packages (from matplotlib) (3.0.4)\n",
      "Requirement already satisfied: kiwisolver>=1.0.1 in c:\\users\\sh501\\anaconda3\\envs\\iis\\lib\\site-packages (from matplotlib) (1.4.4)\n",
      "Requirement already satisfied: six>=1.5 in c:\\users\\sh501\\anaconda3\\envs\\iis\\lib\\site-packages (from python-dateutil>=2.7->matplotlib) (1.16.0)\n",
      "Note: you may need to restart the kernel to use updated packages.\n"
     ]
    }
   ],
   "source": [
    "pip install matplotlib"
   ]
  },
  {
   "cell_type": "code",
   "execution_count": 15,
   "id": "06f5a86c",
   "metadata": {},
   "outputs": [
    {
     "name": "stdout",
     "output_type": "stream",
     "text": [
      "클레멘타인\n"
     ]
    },
    {
     "data": {
      "image/png": "[encoded data removed]",
      "text/plain": [
       "<Figure size 720x360 with 1 Axes>"
      ]
     },
     "metadata": {},
     "output_type": "display_data"
    }
   ],
   "source": [
    "import matplotlib.pyplot as plt\n",
    "input_title = input()\n",
    "search_movie = frame.query(\"title == ['{}']\".format(input_title))\n",
    "plt.rc('font', family = \"Malgun Gothic\")\n",
    "plt.rcParams['axes.unicode_minus']=False\n",
    "plt.style.use(\"ggplot\")\n",
    "\n",
    "plt.figure(figsize=(10,5))\n",
    "plt.title('2020-07-01부터 100일간 {}  평점 그래프'.format(input_title))\n",
    "plt.plot(search_movie['date'], search_movie['point'])\n",
    "plt.xlabel('날짜')\n",
    "plt.ylabel('평점')\n",
    "plt.show()"
   ]
  },
  {
   "cell_type": "markdown",
   "id": "be57b3c5",
   "metadata": {},
   "source": [
    "## 영화 클레멘타인은 7월 15일 이후에 개봉한 것으로 보이고, 7월 15일 이후부터 80일 조금 넘은 기간동안 평균 평점 약 9.3점을 유지했다."
   ]
  }
 ],
 "metadata": {
  "kernelspec": {
   "display_name": "Python 3 (ipykernel)",
   "language": "python",
   "name": "python3"
  },
  "language_info": {
   "codemirror_mode": {
    "name": "ipython",
    "version": 3
   },
   "file_extension": ".py",
   "mimetype": "text/x-python",
   "name": "python",
   "nbconvert_exporter": "python",
   "pygments_lexer": "ipython3",
   "version": "3.10.4"
  }
 },
 "nbformat": 4,
 "nbformat_minor": 5
}
