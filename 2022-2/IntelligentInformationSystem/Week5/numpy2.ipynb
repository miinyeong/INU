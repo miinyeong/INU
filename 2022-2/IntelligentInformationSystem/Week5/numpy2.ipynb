{
 "cells": [
  {
   "cell_type": "markdown",
   "id": "a718474f",
   "metadata": {},
   "source": [
    "# ndarray 초기화 방법들"
   ]
  },
  {
   "cell_type": "code",
   "execution_count": 1,
   "id": "c150e6aa",
   "metadata": {},
   "outputs": [
    {
     "data": {
      "text/plain": [
       "array([[0., 0., 0.],\n",
       "       [0., 0., 0.]])"
      ]
     },
     "execution_count": 1,
     "metadata": {},
     "output_type": "execute_result"
    }
   ],
   "source": [
    "import numpy as np\n",
    "#np.zeros(shape=(a,b)) 혹은 np.zeros((a,b)) 모든 값이 0인 a X b 크기의 배열 생성 \n",
    "# -> 초기화\n",
    "\n",
    "a = np.zeros((2,3))\n",
    "a"
   ]
  },
  {
   "cell_type": "code",
   "execution_count": 2,
   "id": "ad724a8d",
   "metadata": {},
   "outputs": [
    {
     "data": {
      "text/plain": [
       "array([[1., 1., 1.],\n",
       "       [1., 1., 1.]])"
      ]
     },
     "execution_count": 2,
     "metadata": {},
     "output_type": "execute_result"
    }
   ],
   "source": [
    "#np.ones(shape=(a,b)) 혹은 np.ones((a,b)) 모든 값이 1인 a X b 크기의 배열 생성 \n",
    "\n",
    "b = np.ones((2,3))\n",
    "b"
   ]
  },
  {
   "cell_type": "code",
   "execution_count": 3,
   "id": "8cf5d904",
   "metadata": {},
   "outputs": [
    {
     "data": {
      "text/plain": [
       "array([[3, 3, 3],\n",
       "       [3, 3, 3]])"
      ]
     },
     "execution_count": 3,
     "metadata": {},
     "output_type": "execute_result"
    }
   ],
   "source": [
    "#np.full(shape=(a,b),fill_value=c) 혹은 np.full((a,b),c) 모든 값이 c인 a X b 크기의\n",
    "#배열 생성 \n",
    "c = np.full((2,3),3)\n",
    "c"
   ]
  },
  {
   "cell_type": "code",
   "execution_count": 7,
   "id": "aabcad44",
   "metadata": {},
   "outputs": [
    {
     "data": {
      "text/plain": [
       "array([[1., 0., 0., 0., 0.],\n",
       "       [0., 1., 0., 0., 0.],\n",
       "       [0., 0., 1., 0., 0.],\n",
       "       [0., 0., 0., 1., 0.],\n",
       "       [0., 0., 0., 0., 1.]])"
      ]
     },
     "execution_count": 7,
     "metadata": {},
     "output_type": "execute_result"
    }
   ],
   "source": [
    "# np.eye(a) 대각선 값은 1이고 나머지는 0인 a x a 크기의 2차원 배열 생성\n",
    "# 만약 np.eye(a, b)인 경우 a x b 크기의 2차원 배열 생성\n",
    "a = np.eye(5)\n",
    "a\n"
   ]
  },
  {
   "cell_type": "code",
   "execution_count": 8,
   "id": "727f1c2f",
   "metadata": {},
   "outputs": [
    {
     "data": {
      "text/plain": [
       "array([[1., 0., 0.],\n",
       "       [0., 1., 0.]])"
      ]
     },
     "execution_count": 8,
     "metadata": {},
     "output_type": "execute_result"
    }
   ],
   "source": [
    "b = np.eye(2,3)\n",
    "b"
   ]
  },
  {
   "cell_type": "code",
   "execution_count": 9,
   "id": "2b91822b",
   "metadata": {},
   "outputs": [
    {
     "data": {
      "text/plain": [
       "array([[ 0.72168747,  0.73524248,  0.71831341, -0.1616778 , -1.70829395],\n",
       "       [-0.80684446, -0.47889892, -0.77510285, -0.06946824, -0.83923998],\n",
       "       [ 0.05446733,  1.34545527,  0.70683356, -0.2682833 , -0.4392017 ]])"
      ]
     },
     "execution_count": 9,
     "metadata": {},
     "output_type": "execute_result"
    }
   ],
   "source": [
    "# np.random.randn(a, b) 임의의 값으로 채워진 a x b 크기의 배열 생성\n",
    "np.random.randn(3,5)"
   ]
  },
  {
   "cell_type": "markdown",
   "id": "e3dd564d",
   "metadata": {},
   "source": [
    "# 슬라이싱(slicing)"
   ]
  },
  {
   "cell_type": "code",
   "execution_count": 10,
   "id": "a5f6289c",
   "metadata": {},
   "outputs": [
    {
     "data": {
      "text/plain": [
       "array([1, 2])"
      ]
     },
     "execution_count": 10,
     "metadata": {},
     "output_type": "execute_result"
    }
   ],
   "source": [
    "a = np.array([1,2,3])\n",
    "b = a[0:2]\n",
    "b"
   ]
  },
  {
   "cell_type": "code",
   "execution_count": 11,
   "id": "770e6145",
   "metadata": {},
   "outputs": [
    {
     "data": {
      "text/plain": [
       "array([[1, 2],\n",
       "       [4, 5]])"
      ]
     },
     "execution_count": 11,
     "metadata": {},
     "output_type": "execute_result"
    }
   ],
   "source": [
    "a = np.array([[1,2,3],[4,5,6]])\n",
    "b = a[0:2,0:2]\n",
    "b"
   ]
  },
  {
   "cell_type": "markdown",
   "id": "f492cd69",
   "metadata": {},
   "source": [
    "# Numpy 연산"
   ]
  },
  {
   "cell_type": "code",
   "execution_count": 20,
   "id": "48774bf9",
   "metadata": {},
   "outputs": [
    {
     "data": {
      "text/plain": [
       "array([[ 5,  3,  8],\n",
       "       [10, 11, 14]])"
      ]
     },
     "execution_count": 20,
     "metadata": {},
     "output_type": "execute_result"
    }
   ],
   "source": [
    "a = np.array([[1,2,3],[4,5,6]])\n",
    "b = np.array([[4,1,5],[6,6,8]]) #동일한 인덱스에 위치한 요소끼리 사칙연산가능\n",
    "c = a+b\n",
    "c\n"
   ]
  },
  {
   "cell_type": "code",
   "execution_count": 21,
   "id": "a43e9b56",
   "metadata": {},
   "outputs": [
    {
     "data": {
      "text/plain": [
       "array([[-3,  1, -2],\n",
       "       [-2, -1, -2]])"
      ]
     },
     "execution_count": 21,
     "metadata": {},
     "output_type": "execute_result"
    }
   ],
   "source": [
    "d = a-b\n",
    "d"
   ]
  },
  {
   "cell_type": "markdown",
   "id": "64bc0598",
   "metadata": {},
   "source": [
    "# numpy array는 numpy array끼리 사칙연산이 가능하지만 Python list는 덧셈만 가능 -> 리스트로 합쳐짐\n",
    "numpy array + numpy array \n",
    "–    같은 인덱스에 있는 값들끼리 더해짐\n",
    "–    Ex. [1, 2, 3, 4, 5] + [1, 3, 5, 7, 9] →  [2, 5, 8, 11, 14] \n",
    "•     list + list\n",
    "–    두 리스트의 값들이 한 리스트로 합쳐짐(concatenation)\n",
    "–    Ex. [1, 2, 3, 4, 5] + [1, 3, 5, 7, 9] →  [1, 2, 3, 4, 5, 1, 3, 5, 7, 9\n",
    "# numpy array는 numpy array끼리 뺄셈, 곱셈, 나눗셈 가능\n",
    "\n",
    "# Numpy array는  array 전체에  연산이  가능하지만 Python list는  곱셈만  가능\n",
    "numpy array + 5\n",
    "–    array 안에 들어있는 각 값에 +5 –    Ex. [1, 2, 3] + 5 →  [6, 7, 8]\n",
    "Python list는 곱셈만 가능\n",
    "[1, 2, 3] * 3 →  [1, 2, 3, 1, 2, 3, 1, 2, 3]"
   ]
  },
  {
   "cell_type": "markdown",
   "id": "f53828a5",
   "metadata": {},
   "source": [
    "•      결론\n",
    "–    python list →  값을 추가하고 제거할 때 사용\n",
    "–    numpy array →  수치 계산이 많고 복잡할 때 혹은 행렬 같은 다차원 배열을 쓸 때 사용"
   ]
  }
 ],
 "metadata": {
  "kernelspec": {
   "display_name": "Python 3 (ipykernel)",
   "language": "python",
   "name": "python3"
  },
  "language_info": {
   "codemirror_mode": {
    "name": "ipython",
    "version": 3
   },
   "file_extension": ".py",
   "mimetype": "text/x-python",
   "name": "python",
   "nbconvert_exporter": "python",
   "pygments_lexer": "ipython3",
   "version": "3.9.12"
  }
 },
 "nbformat": 4,
 "nbformat_minor": 5
}
