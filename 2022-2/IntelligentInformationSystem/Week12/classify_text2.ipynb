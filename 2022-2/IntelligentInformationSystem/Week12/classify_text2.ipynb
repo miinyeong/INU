{
 "cells": [
  {
   "cell_type": "markdown",
   "id": "34a4803c",
   "metadata": {},
   "source": [
    "# 텍스트 분류하기3(한국어 버전)"
   ]
  },
  {
   "cell_type": "code",
   "execution_count": 1,
   "id": "63f6dfb3",
   "metadata": {},
   "outputs": [],
   "source": [
    "# 필요한 모듈 불러오기 # 에러나면 pip install nltk 입력\n",
    "from nltk.tokenize import word_tokenize\n",
    "import nltk"
   ]
  },
  {
   "cell_type": "code",
   "execution_count": 2,
   "id": "154d91c3",
   "metadata": {},
   "outputs": [
    {
     "name": "stderr",
     "output_type": "stream",
     "text": [
      "[nltk_data] Downloading package punkt to\n",
      "[nltk_data]     C:\\Users\\SH501\\AppData\\Roaming\\nltk_data...\n",
      "[nltk_data]   Package punkt is already up-to-date!\n"
     ]
    },
    {
     "data": {
      "text/plain": [
       "True"
      ]
     },
     "execution_count": 2,
     "metadata": {},
     "output_type": "execute_result"
    }
   ],
   "source": [
    "nltk.download('punkt')"
   ]
  },
  {
   "cell_type": "code",
   "execution_count": 29,
   "id": "3990576a",
   "metadata": {},
   "outputs": [
    {
     "data": {
      "text/plain": [
       "[('사과가 좋아', 'pos'), ('밤에 먹는 사과는 비추야', 'neg'), ('사과가 잘 익었어 맛있겠다', 'pos')]"
      ]
     },
     "execution_count": 29,
     "metadata": {},
     "output_type": "execute_result"
    }
   ],
   "source": [
    "train = [('사과가 좋아','pos'),\n",
    "        ('밤에 먹는 사과는 비추야','neg'),\n",
    "        ('사과가 잘 익었어 맛있겠다','pos')]\n",
    "train"
   ]
  },
  {
   "cell_type": "code",
   "execution_count": 30,
   "id": "90278daf",
   "metadata": {},
   "outputs": [
    {
     "name": "stdout",
     "output_type": "stream",
     "text": [
      "{'먹는', '비추야', '사과가', '잘', '밤에', '좋아', '사과는', '익었어', '맛있겠다'}\n"
     ]
    }
   ],
   "source": [
    "# train에 있는 문장들의 단어 set 만들기\n",
    "# set()을 이용하여 집합으로 만들기\n",
    "all_words = set()\n",
    "\n",
    "for tup in train:\n",
    "    sent, label = tup[0], tup[1]  #ex) sent = 'l like you', label = 'pos'\n",
    "    words = word_tokenize(sent)\n",
    "    for word in words:\n",
    "        all_words.add(word)\n",
    "\n",
    "print(all_words)"
   ]
  },
  {
   "cell_type": "code",
   "execution_count": 7,
   "id": "516fcb1f",
   "metadata": {},
   "outputs": [
    {
     "name": "stdout",
     "output_type": "stream",
     "text": [
      "({'먹는': False, '비추야': False, '사과가': True, '잘': False, '밤에': False, '좋아': True, '사과는': False, '익었어': False, '맛있겠다': False}, 'pos')\n",
      "({'먹는': True, '비추야': True, '사과가': False, '잘': False, '밤에': True, '좋아': False, '사과는': True, '익었어': False, '맛있겠다': False}, 'neg')\n",
      "({'먹는': False, '비추야': False, '사과가': True, '잘': True, '밤에': False, '좋아': False, '사과는': False, '익었어': True, '맛있겠다': True}, 'pos')\n"
     ]
    }
   ],
   "source": [
    "train_features = []\n",
    "\n",
    "for tup in train:\n",
    "    sent, label = tup[0], tup[1]\n",
    "    words = word_tokenize(sent)\n",
    "    tmp = {set_word: (set_word in words) for set_word in all_words} # set_word가 words에 있는지 여부 판별\n",
    "    sent_tup = (tmp, label)\n",
    "    train_features.append(sent_tup)\n",
    "    \n",
    "for i in range(len(train_features)):\n",
    "    print(train_features[i])"
   ]
  },
  {
   "cell_type": "code",
   "execution_count": 8,
   "id": "0fc96fc1",
   "metadata": {},
   "outputs": [
    {
     "name": "stdout",
     "output_type": "stream",
     "text": [
      "Most Informative Features\n",
      "                    맛있겠다 = False             neg : pos    =      1.5 : 1.0\n",
      "                     익었어 = False             neg : pos    =      1.5 : 1.0\n",
      "                       잘 = False             neg : pos    =      1.5 : 1.0\n",
      "                      좋아 = False             neg : pos    =      1.5 : 1.0\n"
     ]
    }
   ],
   "source": [
    "classifier = nltk.NaiveBayesClassifier.train(train_features)\n",
    "classifier.show_most_informative_features()"
   ]
  },
  {
   "cell_type": "code",
   "execution_count": 9,
   "id": "b6ba6a6e",
   "metadata": {},
   "outputs": [
    {
     "name": "stdout",
     "output_type": "stream",
     "text": [
      "{'먹는': False, '비추야': False, '사과가': False, '잘': False, '밤에': False, '좋아': False, '사과는': True, '익었어': False, '맛있겠다': False}\n"
     ]
    }
   ],
   "source": [
    "test_sent = '사과는 맛있어'\n",
    "\n",
    "words = word_tokenize(test_sent)\n",
    "test_feature = {set_word: (set_word in words) for set_word in all_words}\n",
    "\n",
    "print(test_feature)"
   ]
  },
  {
   "cell_type": "code",
   "execution_count": 16,
   "id": "227d8f0d",
   "metadata": {},
   "outputs": [
    {
     "data": {
      "text/plain": [
       "'neg'"
      ]
     },
     "execution_count": 16,
     "metadata": {},
     "output_type": "execute_result"
    }
   ],
   "source": [
    "classifier.classify(test_feature)"
   ]
  },
  {
   "cell_type": "markdown",
   "id": "c433ab89",
   "metadata": {},
   "source": [
    "## 형태소 분석기 적용"
   ]
  },
  {
   "cell_type": "code",
   "execution_count": 20,
   "id": "27b4be82",
   "metadata": {},
   "outputs": [],
   "source": [
    "from konlpy.tag import Okt\n",
    "okt = Okt()"
   ]
  },
  {
   "cell_type": "code",
   "execution_count": 21,
   "id": "5f8504cf",
   "metadata": {},
   "outputs": [],
   "source": [
    "def pos_tokenize(raw_sent):\n",
    "    pos_sent = []\n",
    "    \n",
    "    #raw_sent: 사과가 좋아\n",
    "    sent = okt.pos(raw_sent, norm=True, stem=True)\n",
    "    #sent: [('사과', 'Noun'),('가','Josa'),('좋다','Adjective')]\n",
    "    \n",
    "    for tup in sent: \n",
    "        word, tag = tup[0], tup[1]    # tup: ('사과', 'Noun')\n",
    "        word_tag = word + '/' + tag  # word_tag: '사과/Noun'\n",
    "        pos_sent.append(word_tag)\n",
    "        \n",
    "    return ' '.join(pos_sent)"
   ]
  },
  {
   "cell_type": "code",
   "execution_count": 22,
   "id": "3b65e5f0",
   "metadata": {},
   "outputs": [
    {
     "data": {
      "text/plain": [
       "[('사과가 좋아', 'pos'), ('밤에 먹는 사과는 비추야', 'neg'), ('사과가 잘 익었어 맛있겠다', 'pos')]"
      ]
     },
     "execution_count": 22,
     "metadata": {},
     "output_type": "execute_result"
    }
   ],
   "source": [
    "train = [('사과가 좋아','pos'),\n",
    "        ('밤에 먹는 사과는 비추야','neg'),\n",
    "        ('사과가 잘 익었어 맛있겠다','pos')]\n",
    "train"
   ]
  },
  {
   "cell_type": "code",
   "execution_count": 24,
   "id": "218c965f",
   "metadata": {},
   "outputs": [
    {
     "name": "stdout",
     "output_type": "stream",
     "text": [
      "{'비추다/Verb', '익다/Verb', '밤/Noun', '좋다/Adjective', '는/Josa', '사과/Noun', '자다/Verb', '가/Josa', '먹다/Verb', '에/Josa', '맛있다/Adjective'}\n"
     ]
    }
   ],
   "source": [
    "# train에 있는 문장들의 단어 set 만들기\n",
    "# set()을 이용하여 집합으로 만들기\n",
    "all_words = set()\n",
    "\n",
    "for tup in train:\n",
    "    sent, label = tup[0], tup[1]  #ex) sent = 'l like you', label = 'pos'\n",
    "    sent = pos_tokenize(sent)\n",
    "    words = word_tokenize(sent)\n",
    "    for word in words:\n",
    "        all_words.add(word)\n",
    "\n",
    "print(all_words)"
   ]
  },
  {
   "cell_type": "code",
   "execution_count": 25,
   "id": "cf639b12",
   "metadata": {},
   "outputs": [
    {
     "name": "stdout",
     "output_type": "stream",
     "text": [
      "({'비추다/Verb': False, '익다/Verb': False, '밤/Noun': False, '좋다/Adjective': True, '는/Josa': False, '사과/Noun': True, '자다/Verb': False, '가/Josa': True, '먹다/Verb': False, '에/Josa': False, '맛있다/Adjective': False}, 'pos')\n",
      "({'비추다/Verb': True, '익다/Verb': False, '밤/Noun': True, '좋다/Adjective': False, '는/Josa': True, '사과/Noun': True, '자다/Verb': False, '가/Josa': False, '먹다/Verb': True, '에/Josa': True, '맛있다/Adjective': False}, 'neg')\n",
      "({'비추다/Verb': False, '익다/Verb': True, '밤/Noun': False, '좋다/Adjective': False, '는/Josa': False, '사과/Noun': True, '자다/Verb': True, '가/Josa': True, '먹다/Verb': False, '에/Josa': False, '맛있다/Adjective': True}, 'pos')\n"
     ]
    }
   ],
   "source": [
    "train_features = []\n",
    "\n",
    "for tup in train:\n",
    "    sent, label = tup[0], tup[1]\n",
    "    sent = pos_tokenize(sent)\n",
    "    words = word_tokenize(sent)\n",
    "    tmp = {set_word: (set_word in words) for set_word in all_words} # set_word가 words에 있는지 여부 판별\n",
    "    sent_tup = (tmp, label)\n",
    "    train_features.append(sent_tup)\n",
    "    \n",
    "for i in range(len(train_features)):\n",
    "    print(train_features[i])"
   ]
  },
  {
   "cell_type": "code",
   "execution_count": 26,
   "id": "610cc8d1",
   "metadata": {},
   "outputs": [
    {
     "name": "stdout",
     "output_type": "stream",
     "text": [
      "Most Informative Features\n",
      "           맛있다/Adjective = False             neg : pos    =      1.5 : 1.0\n",
      "                 익다/Verb = False             neg : pos    =      1.5 : 1.0\n",
      "                 자다/Verb = False             neg : pos    =      1.5 : 1.0\n",
      "            좋다/Adjective = False             neg : pos    =      1.5 : 1.0\n"
     ]
    }
   ],
   "source": [
    "classifier = nltk.NaiveBayesClassifier.train(train_features)\n",
    "classifier.show_most_informative_features()"
   ]
  },
  {
   "cell_type": "code",
   "execution_count": 27,
   "id": "29d71757",
   "metadata": {},
   "outputs": [
    {
     "name": "stdout",
     "output_type": "stream",
     "text": [
      "{'비추다/Verb': False, '익다/Verb': False, '밤/Noun': False, '좋다/Adjective': False, '는/Josa': False, '사과/Noun': False, '자다/Verb': False, '가/Josa': False, '먹다/Verb': False, '에/Josa': False, '맛있다/Adjective': False}\n"
     ]
    }
   ],
   "source": [
    "test_sent = '사과는 맛있어' \n",
    "\n",
    "words = word_tokenize(test_sent)\n",
    "test_feature = {set_word: (set_word in words) for set_word in all_words}\n",
    "\n",
    "print(test_feature)"
   ]
  },
  {
   "cell_type": "code",
   "execution_count": 28,
   "id": "6d9f4d51",
   "metadata": {},
   "outputs": [
    {
     "data": {
      "text/plain": [
       "'pos'"
      ]
     },
     "execution_count": 28,
     "metadata": {},
     "output_type": "execute_result"
    }
   ],
   "source": [
    "classifier.classify(test_feature) # 맛있다를 통해 맛있어를 긍정으로 판별"
   ]
  }
 ],
 "metadata": {
  "kernelspec": {
   "display_name": "Python 3 (ipykernel)",
   "language": "python",
   "name": "python3"
  },
  "language_info": {
   "codemirror_mode": {
    "name": "ipython",
    "version": 3
   },
   "file_extension": ".py",
   "mimetype": "text/x-python",
   "name": "python",
   "nbconvert_exporter": "python",
   "pygments_lexer": "ipython3",
   "version": "3.9.12"
  }
 },
 "nbformat": 4,
 "nbformat_minor": 5
}
