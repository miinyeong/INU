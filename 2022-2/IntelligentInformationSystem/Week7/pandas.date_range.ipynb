{
 "cells": [
  {
   "cell_type": "markdown",
   "id": "571a37fc",
   "metadata": {},
   "source": [
    "## Specifying the values\n",
    "## The next four examples generate the same DatetimeIndex, but vary the combination of start, end and periods.\n",
    "## Specify start and end, with the default daily frequency."
   ]
  },
  {
   "cell_type": "code",
   "execution_count": 3,
   "id": "b1f20f3c",
   "metadata": {
    "scrolled": true
   },
   "outputs": [
    {
     "data": {
      "text/plain": [
       "DatetimeIndex(['2018-01-01', '2018-01-02', '2018-01-03', '2018-01-04',\n",
       "               '2018-01-05', '2018-01-06', '2018-01-07', '2018-01-08'],\n",
       "              dtype='datetime64[ns]', freq='D')"
      ]
     },
     "execution_count": 3,
     "metadata": {},
     "output_type": "execute_result"
    }
   ],
   "source": [
    "import pandas as pd\n",
    "pd.date_range(start='1/1/2018', end='1/08/2018')\n"
   ]
  },
  {
   "cell_type": "markdown",
   "id": "535bdfc7",
   "metadata": {},
   "source": [
    "## Specify start and periods, the number of periods (days)."
   ]
  },
  {
   "cell_type": "code",
   "execution_count": 4,
   "id": "03dffaad",
   "metadata": {},
   "outputs": [
    {
     "data": {
      "text/plain": [
       "DatetimeIndex(['2018-01-01', '2018-01-02', '2018-01-03', '2018-01-04',\n",
       "               '2018-01-05', '2018-01-06', '2018-01-07', '2018-01-08'],\n",
       "              dtype='datetime64[ns]', freq='D')"
      ]
     },
     "execution_count": 4,
     "metadata": {},
     "output_type": "execute_result"
    }
   ],
   "source": [
    "pd.date_range(start='1/1/2018', periods=8)"
   ]
  },
  {
   "cell_type": "markdown",
   "id": "b4d19d53",
   "metadata": {},
   "source": [
    "## Specify end and periods, the number of periods (days)."
   ]
  },
  {
   "cell_type": "code",
   "execution_count": 5,
   "id": "7eb0aea9",
   "metadata": {},
   "outputs": [
    {
     "data": {
      "text/plain": [
       "DatetimeIndex(['2017-12-25', '2017-12-26', '2017-12-27', '2017-12-28',\n",
       "               '2017-12-29', '2017-12-30', '2017-12-31', '2018-01-01'],\n",
       "              dtype='datetime64[ns]', freq='D')"
      ]
     },
     "execution_count": 5,
     "metadata": {},
     "output_type": "execute_result"
    }
   ],
   "source": [
    "pd.date_range(end='1/1/2018', periods=8)"
   ]
  },
  {
   "cell_type": "markdown",
   "id": "81a1a5d1",
   "metadata": {},
   "source": [
    "## Specify start, end, and periods; the frequency is generated automatically (linearly spaced)."
   ]
  },
  {
   "cell_type": "code",
   "execution_count": 6,
   "id": "c04333aa",
   "metadata": {
    "scrolled": true
   },
   "outputs": [
    {
     "data": {
      "text/plain": [
       "DatetimeIndex(['2018-04-24 00:00:00', '2018-04-25 12:00:00',\n",
       "               '2018-04-27 00:00:00'],\n",
       "              dtype='datetime64[ns]', freq=None)"
      ]
     },
     "execution_count": 6,
     "metadata": {},
     "output_type": "execute_result"
    }
   ],
   "source": [
    "pd.date_range(start='2018-04-24', end='2018-04-27', periods=3)"
   ]
  },
  {
   "cell_type": "markdown",
   "id": "1e2e5d70",
   "metadata": {},
   "source": [
    "## Changed the freq (frequency) to 'M' (month end frequency)."
   ]
  },
  {
   "cell_type": "code",
   "execution_count": 7,
   "id": "dd390f51",
   "metadata": {},
   "outputs": [
    {
     "data": {
      "text/plain": [
       "DatetimeIndex(['2018-01-31', '2018-02-28', '2018-03-31', '2018-04-30',\n",
       "               '2018-05-31'],\n",
       "              dtype='datetime64[ns]', freq='M')"
      ]
     },
     "execution_count": 7,
     "metadata": {},
     "output_type": "execute_result"
    }
   ],
   "source": [
    "pd.date_range(start='1/1/2018', periods=5, freq='M')"
   ]
  },
  {
   "cell_type": "markdown",
   "id": "2f85ec26",
   "metadata": {},
   "source": [
    "## Multiples are allowed"
   ]
  },
  {
   "cell_type": "code",
   "execution_count": 8,
   "id": "affc4e05",
   "metadata": {},
   "outputs": [
    {
     "data": {
      "text/plain": [
       "DatetimeIndex(['2018-01-31', '2018-04-30', '2018-07-31', '2018-10-31',\n",
       "               '2019-01-31'],\n",
       "              dtype='datetime64[ns]', freq='3M')"
      ]
     },
     "execution_count": 8,
     "metadata": {},
     "output_type": "execute_result"
    }
   ],
   "source": [
    "pd.date_range(start='1/1/2018', periods=5, freq='3M')"
   ]
  },
  {
   "cell_type": "markdown",
   "id": "b0ae3445",
   "metadata": {},
   "source": [
    "## freq can also be specified as an Offset object."
   ]
  },
  {
   "cell_type": "code",
   "execution_count": 9,
   "id": "d401e245",
   "metadata": {},
   "outputs": [
    {
     "data": {
      "text/plain": [
       "DatetimeIndex(['2018-01-31', '2018-04-30', '2018-07-31', '2018-10-31',\n",
       "               '2019-01-31'],\n",
       "              dtype='datetime64[ns]', freq='3M')"
      ]
     },
     "execution_count": 9,
     "metadata": {},
     "output_type": "execute_result"
    }
   ],
   "source": [
    "pd.date_range(start='1/1/2018', periods=5, freq=pd.offsets.MonthEnd(3))"
   ]
  },
  {
   "cell_type": "markdown",
   "id": "08ce23f9",
   "metadata": {},
   "source": [
    "## Specify tz to set the timezone."
   ]
  },
  {
   "cell_type": "code",
   "execution_count": 10,
   "id": "fe22c8e7",
   "metadata": {},
   "outputs": [
    {
     "data": {
      "text/plain": [
       "DatetimeIndex(['2018-01-01 00:00:00+09:00', '2018-01-02 00:00:00+09:00',\n",
       "               '2018-01-03 00:00:00+09:00', '2018-01-04 00:00:00+09:00',\n",
       "               '2018-01-05 00:00:00+09:00'],\n",
       "              dtype='datetime64[ns, Asia/Tokyo]', freq='D')"
      ]
     },
     "execution_count": 10,
     "metadata": {},
     "output_type": "execute_result"
    }
   ],
   "source": [
    "pd.date_range(start='1/1/2018', periods=5, tz='Asia/Tokyo')"
   ]
  },
  {
   "cell_type": "markdown",
   "id": "1f1b3dad",
   "metadata": {},
   "source": [
    "## inclusive controls whether to include start and end that are on the boundary. The default, “both”, includes boundary points on either end."
   ]
  },
  {
   "cell_type": "code",
   "execution_count": 11,
   "id": "9d545ced",
   "metadata": {},
   "outputs": [
    {
     "data": {
      "text/plain": [
       "DatetimeIndex(['2017-01-01', '2017-01-02', '2017-01-03', '2017-01-04'], dtype='datetime64[ns]', freq='D')"
      ]
     },
     "execution_count": 11,
     "metadata": {},
     "output_type": "execute_result"
    }
   ],
   "source": [
    "pd.date_range(start='2017-01-01', end='2017-01-04', inclusive=\"both\")"
   ]
  },
  {
   "cell_type": "markdown",
   "id": "d8b029ac",
   "metadata": {},
   "source": [
    "## Use inclusive='left' to exclude end if it falls on the boundary."
   ]
  },
  {
   "cell_type": "code",
   "execution_count": 12,
   "id": "c54e7cb2",
   "metadata": {},
   "outputs": [
    {
     "data": {
      "text/plain": [
       "DatetimeIndex(['2017-01-01', '2017-01-02', '2017-01-03'], dtype='datetime64[ns]', freq='D')"
      ]
     },
     "execution_count": 12,
     "metadata": {},
     "output_type": "execute_result"
    }
   ],
   "source": [
    "pd.date_range(start='2017-01-01', end='2017-01-04', inclusive='left')"
   ]
  },
  {
   "cell_type": "markdown",
   "id": "7ec0f476",
   "metadata": {},
   "source": [
    "## Use inclusive='right' to exclude start if it falls on the boundary, and similarly inclusive='neither' will exclude both start and end."
   ]
  },
  {
   "cell_type": "code",
   "execution_count": 13,
   "id": "2fe80676",
   "metadata": {},
   "outputs": [
    {
     "data": {
      "text/plain": [
       "DatetimeIndex(['2017-01-02', '2017-01-03', '2017-01-04'], dtype='datetime64[ns]', freq='D')"
      ]
     },
     "execution_count": 13,
     "metadata": {},
     "output_type": "execute_result"
    }
   ],
   "source": [
    "pd.date_range(start='2017-01-01', end='2017-01-04', inclusive='right')"
   ]
  },
  {
   "cell_type": "code",
   "execution_count": null,
   "id": "1247721a",
   "metadata": {},
   "outputs": [],
   "source": []
  }
 ],
 "metadata": {
  "kernelspec": {
   "display_name": "Python 3 (ipykernel)",
   "language": "python",
   "name": "python3"
  },
  "language_info": {
   "codemirror_mode": {
    "name": "ipython",
    "version": 3
   },
   "file_extension": ".py",
   "mimetype": "text/x-python",
   "name": "python",
   "nbconvert_exporter": "python",
   "pygments_lexer": "ipython3",
   "version": "3.10.4"
  }
 },
 "nbformat": 4,
 "nbformat_minor": 5
}
