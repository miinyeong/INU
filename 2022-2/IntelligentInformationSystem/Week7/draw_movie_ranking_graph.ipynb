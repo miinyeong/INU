{
 "cells": [
  {
   "cell_type": "code",
   "execution_count": 1,
   "id": "9634ca07",
   "metadata": {},
   "outputs": [
    {
     "data": {
      "text/plain": [
       "DatetimeIndex(['2020-10-01', '2020-10-02', '2020-10-03', '2020-10-04',\n",
       "               '2020-10-05', '2020-10-06', '2020-10-07', '2020-10-08',\n",
       "               '2020-10-09', '2020-10-10',\n",
       "               ...\n",
       "               '2022-10-02', '2022-10-03', '2022-10-04', '2022-10-05',\n",
       "               '2022-10-06', '2022-10-07', '2022-10-08', '2022-10-09',\n",
       "               '2022-10-10', '2022-10-11'],\n",
       "              dtype='datetime64[ns]', length=741, freq='D')"
      ]
     },
     "execution_count": 1,
     "metadata": {},
     "output_type": "execute_result"
    }
   ],
   "source": [
    "import pandas as pd\n",
    "## 특정 날짜만 추출\n",
    "pd.date_range(start='10/01/2020',end='10/11/2022')"
   ]
  },
  {
   "cell_type": "code",
   "execution_count": 2,
   "id": "613a6e8e",
   "metadata": {},
   "outputs": [
    {
     "data": {
      "text/plain": [
       "DatetimeIndex(['2020-10-01', '2020-10-02', '2020-10-03', '2020-10-04',\n",
       "               '2020-10-05', '2020-10-06', '2020-10-07', '2020-10-08',\n",
       "               '2020-10-09', '2020-10-10',\n",
       "               ...\n",
       "               '2022-10-02', '2022-10-03', '2022-10-04', '2022-10-05',\n",
       "               '2022-10-06', '2022-10-07', '2022-10-08', '2022-10-09',\n",
       "               '2022-10-10', '2022-10-11'],\n",
       "              dtype='datetime64[ns]', length=741, freq='D')"
      ]
     },
     "execution_count": 2,
     "metadata": {},
     "output_type": "execute_result"
    }
   ],
   "source": [
    "import pandas as pd\n",
    "## 특정 날짜만 추출\n",
    "pd.date_range(start='2020/10/01',end='2022/10/11')"
   ]
  }
 ],
 "metadata": {
  "kernelspec": {
   "display_name": "Python 3 (ipykernel)",
   "language": "python",
   "name": "python3"
  },
  "language_info": {
   "codemirror_mode": {
    "name": "ipython",
    "version": 3
   },
   "file_extension": ".py",
   "mimetype": "text/x-python",
   "name": "python",
   "nbconvert_exporter": "python",
   "pygments_lexer": "ipython3",
   "version": "3.9.12"
  }
 },
 "nbformat": 4,
 "nbformat_minor": 5
}
